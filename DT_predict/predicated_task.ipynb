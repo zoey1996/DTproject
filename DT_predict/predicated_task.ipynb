{
 "cells": [
  {
   "cell_type": "code",
   "execution_count": 1,
   "id": "2268ac09",
   "metadata": {},
   "outputs": [],
   "source": [
    "import os\n",
    "os.environ[\"CUDA_VISIBLE_DEVICES\"] = \"0\"\n",
    "os.environ['TF_CPP_MIN_LOG_LEVEL'] = '2'\n",
    "import pandas as pd\n",
    "import numpy as np\n",
    "from rdkit import Chem\n",
    "from rdkit.Chem import AllChem as Chem\n",
    "from PyBioMed import Pyprotein\n",
    "from PyBioMed.PyProtein import CTD\n",
    "from sklearn.decomposition import PCA\n",
    "import tensorflow as tf\n",
    "tf.get_logger().setLevel('ERROR')\n",
    "from sklearn import metrics\n",
    "from sklearn.preprocessing import LabelEncoder,MinMaxScaler\n",
    "from deepctr.models import AutoInt\n",
    "from deepctr.feature_column import SparseFeat,DenseFeat,get_feature_names\n",
    "from tensorflow.python.keras.callbacks import EarlyStopping\n",
    "from tensorflow.python.keras.optimizers import Adam,Adagrad,Adamax\n",
    "from tensorflow import keras\n",
    "from sklearn.linear_model import LogisticRegression\n",
    "from sklearn.ensemble import RandomForestClassifier\n",
    "from sklearn.svm import SVC"
   ]
  },
  {
   "cell_type": "code",
   "execution_count": 2,
   "id": "c9b78b16",
   "metadata": {},
   "outputs": [],
   "source": [
    "mms = MinMaxScaler(feature_range=(0,1))"
   ]
  },
  {
   "cell_type": "code",
   "execution_count": 3,
   "id": "88141860",
   "metadata": {},
   "outputs": [],
   "source": [
    "#protein featrues\n",
    "df_proseq = pd.read_csv('data/transport_pro_seq.txt',sep='\\t')\n",
    "df_proseq.columns = ['pro_id','seq']\n",
    "pro_id = df_proseq['pro_id']\n",
    "pro_feats = np.loadtxt('data/dt_pro_ctd.txt',delimiter=',')\n",
    "prodes_df = pd.concat([pro_id,pd.DataFrame(pro_feats)],axis=1)"
   ]
  },
  {
   "cell_type": "code",
   "execution_count": 4,
   "id": "5f137625",
   "metadata": {},
   "outputs": [
    {
     "data": {
      "text/html": [
       "<div>\n",
       "<style scoped>\n",
       "    .dataframe tbody tr th:only-of-type {\n",
       "        vertical-align: middle;\n",
       "    }\n",
       "\n",
       "    .dataframe tbody tr th {\n",
       "        vertical-align: top;\n",
       "    }\n",
       "\n",
       "    .dataframe thead th {\n",
       "        text-align: right;\n",
       "    }\n",
       "</style>\n",
       "<table border=\"1\" class=\"dataframe\">\n",
       "  <thead>\n",
       "    <tr style=\"text-align: right;\">\n",
       "      <th></th>\n",
       "      <th>NP</th>\n",
       "      <th>smiles</th>\n",
       "    </tr>\n",
       "    <tr>\n",
       "      <th>pubchem_id</th>\n",
       "      <th></th>\n",
       "      <th></th>\n",
       "    </tr>\n",
       "  </thead>\n",
       "  <tbody>\n",
       "    <tr>\n",
       "      <th>drug_5280445</th>\n",
       "      <td>Luteolin</td>\n",
       "      <td>C1=CC(=C(C=C1C2=CC(=O)C3=C(C=C(C=C3O2)O)O)O)O</td>\n",
       "    </tr>\n",
       "  </tbody>\n",
       "</table>\n",
       "</div>"
      ],
      "text/plain": [
       "                    NP                                         smiles\n",
       "pubchem_id                                                           \n",
       "drug_5280445  Luteolin  C1=CC(=C(C=C1C2=CC(=O)C3=C(C=C(C=C3O2)O)O)O)O"
      ]
     },
     "execution_count": 4,
     "metadata": {},
     "output_type": "execute_result"
    }
   ],
   "source": [
    "natural_product = pd.read_csv(\"data/natural_product/Luteolin.csv\")\n",
    "natural_product.set_index([\"pubchem_id\"], inplace=True) \n",
    "natural_product.head()"
   ]
  },
  {
   "cell_type": "code",
   "execution_count": 5,
   "id": "187b14e5",
   "metadata": {},
   "outputs": [
    {
     "data": {
      "text/plain": [
       "'C1=CC(=C(C=C1C2=CC(=O)C3=C(C=C(C=C3O2)O)O)O)O'"
      ]
     },
     "execution_count": 5,
     "metadata": {},
     "output_type": "execute_result"
    }
   ],
   "source": [
    "smi = natural_product[\"smiles\"][\"drug_5280445\"]\n",
    "smi"
   ]
  },
  {
   "cell_type": "code",
   "execution_count": 6,
   "id": "eeb13da4",
   "metadata": {},
   "outputs": [],
   "source": [
    "m = Chem.MolFromSmiles(smi)\n",
    "fp = Chem.GetMorganFingerprintAsBitVect(m,2,1024)"
   ]
  },
  {
   "cell_type": "code",
   "execution_count": 7,
   "id": "399c8ffd",
   "metadata": {},
   "outputs": [],
   "source": [
    "mol_name = list([\"drug_5280445\"])"
   ]
  },
  {
   "cell_type": "code",
   "execution_count": 8,
   "id": "25bc5343",
   "metadata": {},
   "outputs": [],
   "source": [
    "fp_id = pd.DataFrame(mol_name)\n",
    "fp_id = fp_id.rename(columns={0:'drug_id'})"
   ]
  },
  {
   "cell_type": "code",
   "execution_count": 9,
   "id": "99889f7f",
   "metadata": {},
   "outputs": [],
   "source": [
    "fp_df = pd.DataFrame(np.array(list(fp))).T"
   ]
  },
  {
   "cell_type": "code",
   "execution_count": 10,
   "id": "6faf8c40",
   "metadata": {},
   "outputs": [],
   "source": [
    "fp_df = pd.concat([fp_id,pd.DataFrame(np.array(list(fp))).T],axis=1)"
   ]
  },
  {
   "cell_type": "code",
   "execution_count": 11,
   "id": "9a7a280f",
   "metadata": {},
   "outputs": [
    {
     "data": {
      "text/html": [
       "<div>\n",
       "<style scoped>\n",
       "    .dataframe tbody tr th:only-of-type {\n",
       "        vertical-align: middle;\n",
       "    }\n",
       "\n",
       "    .dataframe tbody tr th {\n",
       "        vertical-align: top;\n",
       "    }\n",
       "\n",
       "    .dataframe thead th {\n",
       "        text-align: right;\n",
       "    }\n",
       "</style>\n",
       "<table border=\"1\" class=\"dataframe\">\n",
       "  <thead>\n",
       "    <tr style=\"text-align: right;\">\n",
       "      <th></th>\n",
       "      <th>drug_id</th>\n",
       "      <th>0</th>\n",
       "      <th>1</th>\n",
       "      <th>2</th>\n",
       "      <th>3</th>\n",
       "      <th>4</th>\n",
       "      <th>5</th>\n",
       "      <th>6</th>\n",
       "      <th>7</th>\n",
       "      <th>8</th>\n",
       "      <th>...</th>\n",
       "      <th>1014</th>\n",
       "      <th>1015</th>\n",
       "      <th>1016</th>\n",
       "      <th>1017</th>\n",
       "      <th>1018</th>\n",
       "      <th>1019</th>\n",
       "      <th>1020</th>\n",
       "      <th>1021</th>\n",
       "      <th>1022</th>\n",
       "      <th>1023</th>\n",
       "    </tr>\n",
       "  </thead>\n",
       "  <tbody>\n",
       "    <tr>\n",
       "      <th>0</th>\n",
       "      <td>drug_5280445</td>\n",
       "      <td>0</td>\n",
       "      <td>0</td>\n",
       "      <td>0</td>\n",
       "      <td>0</td>\n",
       "      <td>0</td>\n",
       "      <td>0</td>\n",
       "      <td>0</td>\n",
       "      <td>0</td>\n",
       "      <td>0</td>\n",
       "      <td>...</td>\n",
       "      <td>0</td>\n",
       "      <td>0</td>\n",
       "      <td>0</td>\n",
       "      <td>0</td>\n",
       "      <td>0</td>\n",
       "      <td>0</td>\n",
       "      <td>0</td>\n",
       "      <td>0</td>\n",
       "      <td>0</td>\n",
       "      <td>0</td>\n",
       "    </tr>\n",
       "  </tbody>\n",
       "</table>\n",
       "<p>1 rows × 1025 columns</p>\n",
       "</div>"
      ],
      "text/plain": [
       "        drug_id  0  1  2  3  4  5  6  7  8  ...  1014  1015  1016  1017  1018  \\\n",
       "0  drug_5280445  0  0  0  0  0  0  0  0  0  ...     0     0     0     0     0   \n",
       "\n",
       "   1019  1020  1021  1022  1023  \n",
       "0     0     0     0     0     0  \n",
       "\n",
       "[1 rows x 1025 columns]"
      ]
     },
     "execution_count": 11,
     "metadata": {},
     "output_type": "execute_result"
    }
   ],
   "source": [
    "fp_df"
   ]
  },
  {
   "cell_type": "code",
   "execution_count": 12,
   "id": "0a3fce9a",
   "metadata": {},
   "outputs": [
    {
     "data": {
      "text/plain": [
       "LabelEncoder()"
      ]
     },
     "execution_count": 12,
     "metadata": {},
     "output_type": "execute_result"
    }
   ],
   "source": [
    "#3.Encode head and tail for nfm input\n",
    "head_le = LabelEncoder()\n",
    "tail_le = LabelEncoder()\n",
    "head_le.fit(df_proseq['pro_id'].values)\n",
    "tail_le.fit(fp_id[\"drug_id\"].values)"
   ]
  },
  {
   "cell_type": "code",
   "execution_count": 13,
   "id": "554b626f",
   "metadata": {},
   "outputs": [],
   "source": [
    "dataset = pd.DataFrame(pro_id)\n",
    "dataset = dataset.rename(columns={'pro_id':'head'})"
   ]
  },
  {
   "cell_type": "code",
   "execution_count": 14,
   "id": "2eb1ff4e",
   "metadata": {},
   "outputs": [],
   "source": [
    "dataset[\"relation\"] = \"drug\"\n",
    "dataset[\"tail\"] = \"drug_5280445\""
   ]
  },
  {
   "cell_type": "code",
   "execution_count": 15,
   "id": "a79d5be8",
   "metadata": {},
   "outputs": [],
   "source": [
    "drug_features = pd.merge(dataset,fp_df,how='left',left_on='tail',right_on='drug_id').iloc[:,4:1029].values\n",
    "pro_features = pd.merge(dataset,prodes_df,how='left',left_on='head',right_on='pro_id').iloc[:,4:105].values"
   ]
  },
  {
   "cell_type": "code",
   "execution_count": 16,
   "id": "d6d96f5d",
   "metadata": {},
   "outputs": [
    {
     "data": {
      "text/plain": [
       "423"
      ]
     },
     "execution_count": 16,
     "metadata": {},
     "output_type": "execute_result"
    }
   ],
   "source": [
    "len(drug_features)"
   ]
  },
  {
   "cell_type": "code",
   "execution_count": 17,
   "id": "ebcde00f",
   "metadata": {},
   "outputs": [],
   "source": [
    "feature = np.concatenate([drug_features,pro_features],axis=1)"
   ]
  },
  {
   "cell_type": "code",
   "execution_count": 18,
   "id": "19143998",
   "metadata": {},
   "outputs": [
    {
     "name": "stderr",
     "output_type": "stream",
     "text": [
      "WARNING:root:\n",
      "DeepCTR version 0.9.0 detected. Your version is 0.8.4.\n",
      "Use `pip install -U deepctr` to upgrade.Changelog: https://github.com/shenweichen/DeepCTR/releases/tag/v0.9.0\n"
     ]
    }
   ],
   "source": [
    "feature = np.concatenate([drug_features,pro_features],axis=1)\n",
    "pca = PCA(n_components=400)\n",
    "scaled_pca_features = pca.fit_transform(feature)"
   ]
  },
  {
   "cell_type": "code",
   "execution_count": 19,
   "id": "697a42be",
   "metadata": {},
   "outputs": [],
   "source": [
    "embedding_list = pd.read_csv(\"data/natural_product/Luteolin_RESCAL_entity.csv\")\n",
    "embedding_list.set_index([\"ent_name\"], inplace=True) "
   ]
  },
  {
   "cell_type": "code",
   "execution_count": 20,
   "id": "0d2186d0",
   "metadata": {},
   "outputs": [],
   "source": [
    "sub_embeddings = [eval(embedding_list['ent_embedding'][x]) for x in dataset['head']]\n",
    "obj_embeddings = [eval(embedding_list['ent_embedding'][x]) for x in dataset['tail']]"
   ]
  },
  {
   "cell_type": "code",
   "execution_count": 21,
   "id": "68d29bf7",
   "metadata": {},
   "outputs": [],
   "source": [
    "merge_feats = np.concatenate([sub_embeddings,obj_embeddings],axis=1)"
   ]
  },
  {
   "cell_type": "code",
   "execution_count": 22,
   "id": "9f9e8d40",
   "metadata": {},
   "outputs": [],
   "source": [
    "all_feats = np.concatenate([scaled_pca_features,merge_feats],axis=1)\n",
    "all_feats_scaled = mms.fit_transform(all_feats)"
   ]
  },
  {
   "cell_type": "code",
   "execution_count": 23,
   "id": "3e16d2b2",
   "metadata": {},
   "outputs": [],
   "source": [
    "predict_model_input = {'head':head_le.transform(dataset['head'].values),\n",
    "                    'tail':tail_le.transform(dataset['tail'].values),\n",
    "                    'feats':all_feats_scaled\n",
    "                    }"
   ]
  },
  {
   "cell_type": "code",
   "execution_count": 24,
   "id": "d40ea868",
   "metadata": {},
   "outputs": [],
   "source": [
    "from deepctr.layers import custom_objects\n",
    "\n",
    "autoint_model = tf.keras.models.load_model(\"model/all_pos_model.h5\", custom_objects)"
   ]
  },
  {
   "cell_type": "code",
   "execution_count": 25,
   "id": "c84f1dc2",
   "metadata": {},
   "outputs": [],
   "source": [
    "pred_y = autoint_model.predict(predict_model_input, batch_size=64)"
   ]
  },
  {
   "cell_type": "code",
   "execution_count": 26,
   "id": "625e379e",
   "metadata": {},
   "outputs": [],
   "source": [
    "pred_df = pd.DataFrame(pred_y)"
   ]
  },
  {
   "cell_type": "code",
   "execution_count": 27,
   "id": "ef7ecfab",
   "metadata": {},
   "outputs": [],
   "source": [
    "result_df = pd.concat([pro_id,pred_df],axis=1)"
   ]
  },
  {
   "cell_type": "code",
   "execution_count": 28,
   "id": "8b9cf23b",
   "metadata": {},
   "outputs": [],
   "source": [
    "result_df.sort_values(by=[0], ascending=False,inplace=True)"
   ]
  },
  {
   "cell_type": "code",
   "execution_count": 29,
   "id": "59721a4b",
   "metadata": {},
   "outputs": [
    {
     "data": {
      "text/html": [
       "<div>\n",
       "<style scoped>\n",
       "    .dataframe tbody tr th:only-of-type {\n",
       "        vertical-align: middle;\n",
       "    }\n",
       "\n",
       "    .dataframe tbody tr th {\n",
       "        vertical-align: top;\n",
       "    }\n",
       "\n",
       "    .dataframe thead th {\n",
       "        text-align: right;\n",
       "    }\n",
       "</style>\n",
       "<table border=\"1\" class=\"dataframe\">\n",
       "  <thead>\n",
       "    <tr style=\"text-align: right;\">\n",
       "      <th></th>\n",
       "      <th>pro_id</th>\n",
       "      <th>0</th>\n",
       "    </tr>\n",
       "  </thead>\n",
       "  <tbody>\n",
       "    <tr>\n",
       "      <th>22</th>\n",
       "      <td>dt_O76082</td>\n",
       "      <td>1.000000</td>\n",
       "    </tr>\n",
       "    <tr>\n",
       "      <th>1</th>\n",
       "      <td>dt_Q8TCC7</td>\n",
       "      <td>1.000000</td>\n",
       "    </tr>\n",
       "    <tr>\n",
       "      <th>6</th>\n",
       "      <td>dt_Q9UNQ0</td>\n",
       "      <td>1.000000</td>\n",
       "    </tr>\n",
       "    <tr>\n",
       "      <th>7</th>\n",
       "      <td>dt_Q96FL8</td>\n",
       "      <td>1.000000</td>\n",
       "    </tr>\n",
       "    <tr>\n",
       "      <th>9</th>\n",
       "      <td>dt_P33527</td>\n",
       "      <td>1.000000</td>\n",
       "    </tr>\n",
       "    <tr>\n",
       "      <th>13</th>\n",
       "      <td>dt_O15439</td>\n",
       "      <td>1.000000</td>\n",
       "    </tr>\n",
       "    <tr>\n",
       "      <th>32</th>\n",
       "      <td>dt_Q15758</td>\n",
       "      <td>1.000000</td>\n",
       "    </tr>\n",
       "    <tr>\n",
       "      <th>187</th>\n",
       "      <td>dt_Q9NVC3</td>\n",
       "      <td>1.000000</td>\n",
       "    </tr>\n",
       "    <tr>\n",
       "      <th>5</th>\n",
       "      <td>dt_Q4U2R8</td>\n",
       "      <td>0.999999</td>\n",
       "    </tr>\n",
       "    <tr>\n",
       "      <th>12</th>\n",
       "      <td>dt_O15245</td>\n",
       "      <td>0.999999</td>\n",
       "    </tr>\n",
       "  </tbody>\n",
       "</table>\n",
       "</div>"
      ],
      "text/plain": [
       "        pro_id         0\n",
       "22   dt_O76082  1.000000\n",
       "1    dt_Q8TCC7  1.000000\n",
       "6    dt_Q9UNQ0  1.000000\n",
       "7    dt_Q96FL8  1.000000\n",
       "9    dt_P33527  1.000000\n",
       "13   dt_O15439  1.000000\n",
       "32   dt_Q15758  1.000000\n",
       "187  dt_Q9NVC3  1.000000\n",
       "5    dt_Q4U2R8  0.999999\n",
       "12   dt_O15245  0.999999"
      ]
     },
     "execution_count": 29,
     "metadata": {},
     "output_type": "execute_result"
    }
   ],
   "source": [
    "result_df[:10]"
   ]
  },
  {
   "cell_type": "code",
   "execution_count": null,
   "id": "14aa3363",
   "metadata": {},
   "outputs": [],
   "source": []
  }
 ],
 "metadata": {
  "kernelspec": {
   "display_name": "DTproject",
   "language": "python",
   "name": "dtproject"
  },
  "language_info": {
   "codemirror_mode": {
    "name": "ipython",
    "version": 3
   },
   "file_extension": ".py",
   "mimetype": "text/x-python",
   "name": "python",
   "nbconvert_exporter": "python",
   "pygments_lexer": "ipython3",
   "version": "3.6.13"
  }
 },
 "nbformat": 4,
 "nbformat_minor": 5
}
