{
 "cells": [
  {
   "cell_type": "code",
   "execution_count": null,
   "id": "b482c253",
   "metadata": {},
   "outputs": [],
   "source": [
    "!DGLBACKEND=pytorch dglke_train --model_name RESCAL --data_path KG/Luteolin --data_files train.txt test.txt valid.txt --format raw_udd_hrt --dataset Luteolin --batch_size 1024 --log_interval 1000 \\\n",
    "--neg_sample_size 256 --hidden_dim 800 --gamma 24.0 \\\n",
    "--lr 0.05 --batch_size_eval 16 --test -adv --gpu 0 --max_step 20000"
   ]
  },
  {
   "cell_type": "code",
   "execution_count": null,
   "id": "30fde54c",
   "metadata": {},
   "outputs": [],
   "source": [
    "!DGLBACKEND=pytorch dglke_train --model_name TransR --data_path KG/Luteolin --data_files train.txt test.txt valid.txt --format raw_udd_hrt --dataset Luteolin --batch_size 1024 \\\n",
    "--neg_sample_size 128 --regularization_coef 2e-07 --hidden_dim 200 --gamma 12.0 \\\n",
    "--lr 0.05 --batch_size_eval 16 --test -adv --gpu 0 --max_step 20000"
   ]
  }
 ],
 "metadata": {
  "kernelspec": {
   "display_name": "DTproject",
   "language": "python",
   "name": "dtproject"
  },
  "language_info": {
   "codemirror_mode": {
    "name": "ipython",
    "version": 3
   },
   "file_extension": ".py",
   "mimetype": "text/x-python",
   "name": "python",
   "nbconvert_exporter": "python",
   "pygments_lexer": "ipython3",
   "version": "3.6.13"
  }
 },
 "nbformat": 4,
 "nbformat_minor": 5
}
