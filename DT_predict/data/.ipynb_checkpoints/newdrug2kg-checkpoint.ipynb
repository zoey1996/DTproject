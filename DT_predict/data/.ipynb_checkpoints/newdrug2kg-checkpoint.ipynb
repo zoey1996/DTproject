{
 "cells": [
  {
   "cell_type": "code",
   "execution_count": null,
   "id": "a607c8f5",
   "metadata": {},
   "outputs": [],
   "source": [
    "import numpy as np\n",
    "import pandas as pd\n",
    "import seaborn as sns\n",
    "import matplotlib as plt\n",
    "from rdkit.Chem import AllChem as Chem\n",
    "from rdkit.Chem.Draw import IPythonConsole\n",
    "from rdkit.Chem import PandasTools\n",
    "from rdkit.Chem import Draw\n",
    "from rdkit import DataStructs\n",
    "%matplotlib inline"
   ]
  },
  {
   "cell_type": "code",
   "execution_count": null,
   "id": "13911d0b",
   "metadata": {},
   "outputs": [],
   "source": [
    "#load data\n",
    "data = pd.read_csv('drug_smi.txt', sep = '\\t')"
   ]
  },
  {
   "cell_type": "code",
   "execution_count": null,
   "id": "a71a564c",
   "metadata": {},
   "outputs": [],
   "source": [
    "PandasTools.AddMoleculeColumnToFrame(data,'smiles','Molecule',includeFingerprints=True)\n",
    "print([str(x) for x in  data.columns])"
   ]
  },
  {
   "cell_type": "code",
   "execution_count": null,
   "id": "dcc83e38",
   "metadata": {},
   "outputs": [],
   "source": [
    "#Dihydrophenanthrene = Chem.MolFromSmiles(\"C1CC2=CC=CC=C2C3=CC=CC=C31\")\n",
    "Luteolin = pd.read_csv(\"natural_product/Luteolin.csv\")\n",
    "Luteolin"
   ]
  },
  {
   "cell_type": "code",
   "execution_count": null,
   "id": "d0417317",
   "metadata": {},
   "outputs": [],
   "source": [
    "PandasTools.AddMoleculeColumnToFrame(Luteolin,'smiles','Molecule',includeFingerprints=True)\n",
    "print([str(x) for x in  Luteolin.columns])"
   ]
  },
  {
   "cell_type": "code",
   "execution_count": null,
   "id": "fb511002",
   "metadata": {},
   "outputs": [],
   "source": [
    "fplist = [] #fplist\n",
    "for mol in data['Molecule']:\n",
    "    fp = Chem.GetMorganFingerprintAsBitVect(mol,2)\n",
    "    fplist.append(fp)"
   ]
  },
  {
   "cell_type": "code",
   "execution_count": null,
   "id": "90eb77be",
   "metadata": {},
   "outputs": [],
   "source": [
    "Luteolin_fplist = [] #fplist\n",
    "for mol in Luteolin['Molecule']:\n",
    "    Luteolin_fp = Chem.GetMorganFingerprintAsBitVect(mol,2)\n",
    "    Luteolin_fplist.append(Luteolin_fp)"
   ]
  },
  {
   "cell_type": "code",
   "execution_count": null,
   "id": "88282f91",
   "metadata": {
    "scrolled": true
   },
   "outputs": [],
   "source": [
    "data['mfp2']=fplist\n",
    "data.head(3)"
   ]
  },
  {
   "cell_type": "code",
   "execution_count": null,
   "id": "68cf2e29",
   "metadata": {},
   "outputs": [],
   "source": [
    "Luteolin['mfp2']=Luteolin_fplist\n",
    "Luteolin.head(3)"
   ]
  },
  {
   "cell_type": "code",
   "execution_count": null,
   "id": "7bc3e89f",
   "metadata": {},
   "outputs": [],
   "source": [
    "simlist = []\n",
    "for o in Luteolin.index:\n",
    "    print(o)\n",
    "    for r in data.index:\n",
    "        fp1 = Luteolin['mfp2'][o]\n",
    "        fp2 = data['mfp2'][r]\n",
    "        sim =DataStructs.DiceSimilarity(fp1,fp2)\n",
    "        simlist.append(Luteolin['pubchem_id'][o] + \",\" + str(round(sim,3)) + \",\" + data['drug_id'][r])"
   ]
  },
  {
   "cell_type": "code",
   "execution_count": null,
   "id": "353613b0",
   "metadata": {},
   "outputs": [],
   "source": [
    "new_data = pd.DataFrame(simlist)\n",
    "new_data['head'] = new_data[0].map(lambda x:x.split(\",\")[0])\n",
    "new_data['relation'] = new_data[0].map(lambda x:x.split(\",\")[1])\n",
    "new_data['tail'] = new_data[0].map(lambda x:x.split(\",\")[2])"
   ]
  },
  {
   "cell_type": "code",
   "execution_count": null,
   "id": "a9cf55cd",
   "metadata": {},
   "outputs": [],
   "source": [
    "new_data = new_data.drop(0,axis=1)"
   ]
  },
  {
   "cell_type": "code",
   "execution_count": null,
   "id": "e544266c",
   "metadata": {},
   "outputs": [],
   "source": [
    "new_data"
   ]
  },
  {
   "cell_type": "code",
   "execution_count": null,
   "id": "1425604a",
   "metadata": {},
   "outputs": [],
   "source": [
    "df = pd.read_csv(\"KG/dt_graph.txt\",sep=\"\\t\",names=[\"head\",\"relation\",\"tail\"])"
   ]
  },
  {
   "cell_type": "code",
   "execution_count": null,
   "id": "eda230f5",
   "metadata": {},
   "outputs": [],
   "source": [
    "merge_data = pd.concat([df,new_data],axis=0,ignore_index=True)\n",
    "merge_data"
   ]
  },
  {
   "cell_type": "code",
   "execution_count": null,
   "id": "723a0f78",
   "metadata": {},
   "outputs": [],
   "source": [
    "merge_data.to_csv(\"KG/Luteolin/Luteolin_kg.txt\",index=None,header=None,sep=\"\\t\")"
   ]
  },
  {
   "cell_type": "code",
   "execution_count": null,
   "id": "1a53b86f",
   "metadata": {},
   "outputs": [],
   "source": [
    "import pandas as pd\n",
    "import numpy as np\n",
    "from collections import defaultdict\n",
    "import json"
   ]
  },
  {
   "cell_type": "code",
   "execution_count": null,
   "id": "39fa1ac1",
   "metadata": {},
   "outputs": [],
   "source": [
    "rels = set()\n",
    "ents = set()"
   ]
  },
  {
   "cell_type": "code",
   "execution_count": null,
   "id": "357c461b",
   "metadata": {},
   "outputs": [],
   "source": [
    "with open('KG/Luteolin/Luteolin_kg.txt','rb') as f:\n",
    "    lines = f.readlines()\n",
    "    for line in lines:\n",
    "        line = line.rstrip()\n",
    "        rel = str(line.decode().split('\\t')[1])\n",
    "        e1 = str(line.decode().split('\\t')[0])\n",
    "        e2 = str(line.decode().split('\\t')[2])\n",
    "        rels.add(rel)\n",
    "        ents.add(e1)\n",
    "        ents.add(e2)\n",
    "\n",
    "f.close()"
   ]
  },
  {
   "cell_type": "code",
   "execution_count": null,
   "id": "df34146d",
   "metadata": {},
   "outputs": [],
   "source": [
    "relationid = {}\n",
    "for idx, item in enumerate(list(rels)):\n",
    "\trelationid[item] = idx"
   ]
  },
  {
   "cell_type": "code",
   "execution_count": null,
   "id": "18db9f71",
   "metadata": {},
   "outputs": [],
   "source": [
    "entid = {}\n",
    "for idx, item in enumerate(list(ents)):\n",
    "    entid[item] = idx"
   ]
  },
  {
   "cell_type": "code",
   "execution_count": null,
   "id": "7fc506c4",
   "metadata": {},
   "outputs": [],
   "source": [
    "f=open(\"KG/Luteolin/relations.tsv\",\"w\")\n",
    " \n",
    "for k,v in relationid.items():\n",
    "    f.write(str(v) + '\\t' + k +\"\\n\")\n",
    "f.close()"
   ]
  },
  {
   "cell_type": "code",
   "execution_count": null,
   "id": "9f03747d",
   "metadata": {},
   "outputs": [],
   "source": [
    "f=open(\"KG/Luteolin/entities.tsv\",\"w\")\n",
    " \n",
    "for k,v in entid.items():\n",
    "    f.write(str(v) + '\\t' + k +\"\\n\")\n",
    "f.close()"
   ]
  },
  {
   "cell_type": "code",
   "execution_count": null,
   "id": "7ef1bdc9",
   "metadata": {},
   "outputs": [],
   "source": [
    "shuffle_data = merge_data.sample(frac=1.0)\n",
    "shuffle_data = shuffle_data.reset_index(drop=True)"
   ]
  },
  {
   "cell_type": "code",
   "execution_count": null,
   "id": "b646c808",
   "metadata": {},
   "outputs": [],
   "source": [
    "shuffle_data"
   ]
  },
  {
   "cell_type": "code",
   "execution_count": null,
   "id": "eae7e2b4",
   "metadata": {},
   "outputs": [],
   "source": [
    "int(len(shuffle_data)*0.2)"
   ]
  },
  {
   "cell_type": "code",
   "execution_count": null,
   "id": "2c8ba4f7",
   "metadata": {},
   "outputs": [],
   "source": [
    "int(len(shuffle_data)*0.2) * 2"
   ]
  },
  {
   "cell_type": "code",
   "execution_count": null,
   "id": "3db582c6",
   "metadata": {},
   "outputs": [],
   "source": [
    "len(shuffle_data) - 215662"
   ]
  },
  {
   "cell_type": "code",
   "execution_count": null,
   "id": "bdb915de",
   "metadata": {},
   "outputs": [],
   "source": [
    "len(shuffle_data)"
   ]
  },
  {
   "cell_type": "code",
   "execution_count": null,
   "id": "a8dd6867",
   "metadata": {},
   "outputs": [],
   "source": [
    "107831 + 107831"
   ]
  },
  {
   "cell_type": "code",
   "execution_count": null,
   "id": "62590fc2",
   "metadata": {},
   "outputs": [],
   "source": [
    "train = shuffle_data.loc[0:107831]\n",
    "test = shuffle_data.loc[107831:215662]\n",
    "valid = shuffle_data.loc[215662:539156]"
   ]
  },
  {
   "cell_type": "code",
   "execution_count": null,
   "id": "a82e93c0",
   "metadata": {},
   "outputs": [],
   "source": [
    "train.to_csv(\"Luteolin/train.txt\",index=None,header=None,sep=\"\\t\")\n",
    "valid.to_csv(\"Luteolin/valid.txt\",index=None,header=None,sep=\"\\t\")\n",
    "test.to_csv(\"Luteolin/test.txt\",index=None,header=None,sep=\"\\t\")"
   ]
  }
 ],
 "metadata": {
  "kernelspec": {
   "display_name": "DTproject",
   "language": "python",
   "name": "dtproject"
  },
  "language_info": {
   "codemirror_mode": {
    "name": "ipython",
    "version": 3
   },
   "file_extension": ".py",
   "mimetype": "text/x-python",
   "name": "python",
   "nbconvert_exporter": "python",
   "pygments_lexer": "ipython3",
   "version": "3.6.13"
  }
 },
 "nbformat": 4,
 "nbformat_minor": 5
}
