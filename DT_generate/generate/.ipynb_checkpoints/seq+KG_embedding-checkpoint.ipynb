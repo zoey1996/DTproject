{
 "cells": [
  {
   "cell_type": "code",
   "execution_count": 1,
   "id": "100daf45",
   "metadata": {},
   "outputs": [
    {
     "name": "stderr",
     "output_type": "stream",
     "text": [
      "/home2/cxh/anaconda3/envs/DTproject/lib/python3.6/site-packages/tqdm/auto.py:22: TqdmWarning: IProgress not found. Please update jupyter and ipywidgets. See https://ipywidgets.readthedocs.io/en/stable/user_install.html\n",
      "  from .autonotebook import tqdm as notebook_tqdm\n"
     ]
    }
   ],
   "source": [
    "import pandas as pd\n",
    "from PyBioMed.PyProtein import CTD\n",
    "from tqdm import tqdm\n",
    "import numpy as np\n",
    "import json\n",
    "import torch\n",
    "import math\n",
    "import re\n",
    "from model import GPT, GPTConfig\n",
    "from utils import sample"
   ]
  },
  {
   "cell_type": "code",
   "execution_count": 2,
   "id": "8be211fd",
   "metadata": {},
   "outputs": [],
   "source": [
    "pro_seq = pd.read_csv(\"../datasets/transport_pro_seq.txt\",sep='\\t')\n",
    "pro_seq.set_index([\"uniprot_id\"], inplace=True) "
   ]
  },
  {
   "cell_type": "code",
   "execution_count": 3,
   "id": "f002f7b3",
   "metadata": {},
   "outputs": [],
   "source": [
    "stoi = json.load(open(f'../datasets/drug_selfies_stoi.json', 'r'))\n",
    "itos = { i:ch for ch,i in stoi.items() }"
   ]
  },
  {
   "cell_type": "code",
   "execution_count": 59,
   "id": "db78bbe5",
   "metadata": {},
   "outputs": [],
   "source": [
    "pro = list(CTD.CalculateCTD(pro_seq['seq'][\"dt_Q01650\"]).values())"
   ]
  },
  {
   "cell_type": "code",
   "execution_count": 60,
   "id": "388213ba",
   "metadata": {},
   "outputs": [],
   "source": [
    "#获取KG嵌入\n",
    "entity_rescal_em = pd.read_csv(\"../datasets/kg_embedding/RESCAL_entity_embedding.csv\")\n",
    "entity_rescal_em.set_index([\"ent_name\"], inplace=True)\n",
    "pro_kg = eval(entity_rescal_em[\"ent_embedding\"][\"dt_Q01650\"])"
   ]
  },
  {
   "cell_type": "code",
   "execution_count": 61,
   "id": "0b478776",
   "metadata": {},
   "outputs": [],
   "source": [
    "pro_cond=pro+pro_kg"
   ]
  },
  {
   "cell_type": "code",
   "execution_count": 62,
   "id": "881e8ea5",
   "metadata": {},
   "outputs": [],
   "source": [
    "pro_len = len(pro_cond)\n",
    "vocab_size = 128\n",
    "block_size = 359\n",
    "n_layer = 8\n",
    "n_head = 8\n",
    "n_embd = 256\n",
    "scaffold = False\n",
    "lstm = False\n",
    "lstm_layers = 0\n",
    "gen_size = 5000\n",
    "batch_size = 8"
   ]
  },
  {
   "cell_type": "code",
   "execution_count": 63,
   "id": "9286dd05",
   "metadata": {},
   "outputs": [],
   "source": [
    "mconf = GPTConfig(vocab_size, block_size, pro_len = pro_len,\n",
    "                       n_layer=n_layer, n_head=n_head, n_embd=n_embd,\n",
    "                       lstm = lstm, lstm_layers = lstm_layers)\n",
    "model = GPT(mconf)"
   ]
  },
  {
   "cell_type": "code",
   "execution_count": 64,
   "id": "cbeacf68",
   "metadata": {},
   "outputs": [
    {
     "name": "stdout",
     "output_type": "stream",
     "text": [
      "Model loaded\n"
     ]
    }
   ],
   "source": [
    "model.load_state_dict(torch.load('../result/models/Transport_seq_KG_embedding.pt'))\n",
    "model.to('cuda')\n",
    "print('Model loaded')\n",
    "\n",
    "gen_iter = math.ceil(gen_size / batch_size)"
   ]
  },
  {
   "cell_type": "code",
   "execution_count": 73,
   "id": "5e99d9e5",
   "metadata": {},
   "outputs": [],
   "source": [
    "context = '[C]'\n",
    "pattern = \"(\\[[^\\]]+]|<|Br?|Cl?|N|O|S|P|F|I|b|c|n|o|s|p|\\(|\\)|\\.|=|#|-|\\+|\\\\\\\\|\\/|:|~|@|\\?|>|\\*|\\$|\\%[0-9]{2}|[0-9])\"\n",
    "regex = re.compile(pattern)"
   ]
  },
  {
   "cell_type": "code",
   "execution_count": 92,
   "id": "22e80ba4",
   "metadata": {},
   "outputs": [
    {
     "name": "stderr",
     "output_type": "stream",
     "text": [
      "100%|██████████| 625/625 [1:24:55<00:00,  8.15s/it]\n"
     ]
    }
   ],
   "source": [
    "#prop_based\n",
    "count = 0\n",
    "molecules = []\n",
    "count += 1\n",
    "for i in tqdm(range(gen_iter)):\n",
    "    #x = torch.tensor(np.random.randint(128), dtype=torch.long)[None,...].repeat(batch_size, 1).to('cuda')\n",
    "    x = torch.tensor([stoi[s] for s in regex.findall(context)], dtype=torch.long)[None,...].repeat(batch_size, 1).to('cuda')\n",
    "    p = torch.tensor(pro_cond).repeat(batch_size, 1).unsqueeze(1).to('cuda')\n",
    "    y = sample(model, x, block_size, temperature=0.7, sample=True, top_k=None, pro = p)\n",
    "    for gen_mol in y: \n",
    "        completion = ''.join([itos[int(i)] for i in gen_mol])\n",
    "        completion = completion.replace('<blank>', '')\n",
    "        molecules.append(completion)"
   ]
  },
  {
   "cell_type": "code",
   "execution_count": 93,
   "id": "12a9ca42",
   "metadata": {},
   "outputs": [
    {
     "data": {
      "text/plain": [
       "1957"
      ]
     },
     "execution_count": 93,
     "metadata": {},
     "output_type": "execute_result"
    }
   ],
   "source": [
    "len(set(molecules))"
   ]
  },
  {
   "cell_type": "code",
   "execution_count": 94,
   "id": "5f6c78f0",
   "metadata": {},
   "outputs": [
    {
     "data": {
      "text/plain": [
       "0.3914"
      ]
     },
     "execution_count": 94,
     "metadata": {},
     "output_type": "execute_result"
    }
   ],
   "source": [
    "len(set(molecules))/len(molecules)"
   ]
  },
  {
   "cell_type": "code",
   "execution_count": 72,
   "id": "2d3f85ea",
   "metadata": {},
   "outputs": [],
   "source": [
    "mol_df = pd.DataFrame(molecules)\n",
    "mol_df.to_csv(\"../result/molecules/Q01650_seq_kg_fixed_mol.csv\",index=None)"
   ]
  },
  {
   "cell_type": "code",
   "execution_count": null,
   "id": "c77a3ba6",
   "metadata": {},
   "outputs": [],
   "source": []
  }
 ],
 "metadata": {
  "kernelspec": {
   "display_name": "DTproject",
   "language": "python",
   "name": "dtproject"
  },
  "language_info": {
   "codemirror_mode": {
    "name": "ipython",
    "version": 3
   },
   "file_extension": ".py",
   "mimetype": "text/x-python",
   "name": "python",
   "nbconvert_exporter": "python",
   "pygments_lexer": "ipython3",
   "version": "3.6.13"
  }
 },
 "nbformat": 4,
 "nbformat_minor": 5
}
