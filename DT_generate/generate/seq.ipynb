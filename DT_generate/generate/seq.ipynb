{
 "cells": [
  {
   "cell_type": "code",
   "execution_count": 1,
   "id": "26813b22",
   "metadata": {},
   "outputs": [
    {
     "name": "stderr",
     "output_type": "stream",
     "text": [
      "/home2/cxh/anaconda3/envs/DTproject/lib/python3.6/site-packages/tqdm/auto.py:22: TqdmWarning: IProgress not found. Please update jupyter and ipywidgets. See https://ipywidgets.readthedocs.io/en/stable/user_install.html\n",
      "  from .autonotebook import tqdm as notebook_tqdm\n"
     ]
    }
   ],
   "source": [
    "import pandas as pd\n",
    "from PyBioMed.PyProtein import CTD\n",
    "from tqdm import tqdm\n",
    "import numpy as np\n",
    "import json\n",
    "import torch\n",
    "import math\n",
    "import re\n",
    "from model import GPT, GPTConfig\n",
    "from utils import sample"
   ]
  },
  {
   "cell_type": "code",
   "execution_count": 2,
   "id": "3c460dfa",
   "metadata": {},
   "outputs": [],
   "source": [
    "pro_seq = pd.read_csv(\"../datasets/transport_pro_seq.txt\",sep='\\t')\n",
    "pro_seq.set_index([\"uniprot_id\"], inplace=True) "
   ]
  },
  {
   "cell_type": "code",
   "execution_count": 121,
   "id": "60c8b8ae",
   "metadata": {},
   "outputs": [],
   "source": [
    "pro_cond=list(CTD.CalculateCTD(pro_seq['seq'][\"dt_P08183\"]).values())"
   ]
  },
  {
   "cell_type": "code",
   "execution_count": 122,
   "id": "065ca78c",
   "metadata": {},
   "outputs": [],
   "source": [
    "max_len = 147"
   ]
  },
  {
   "cell_type": "code",
   "execution_count": 123,
   "id": "1f58af6c",
   "metadata": {},
   "outputs": [],
   "source": [
    "stoi = json.load(open(f'../datasets/drug_selfies_stoi.json', 'r'))\n",
    "itos = { i:ch for ch,i in stoi.items() }"
   ]
  },
  {
   "cell_type": "code",
   "execution_count": 124,
   "id": "8255f51f",
   "metadata": {},
   "outputs": [
    {
     "data": {
      "text/plain": [
       "{'<unk>': 0,\n",
       " '<blank>': 1,\n",
       " '[C]': 2,\n",
       " '[Branch1]': 3,\n",
       " '[=C]': 4,\n",
       " '[O]': 5,\n",
       " '[Ring1]': 6,\n",
       " '[=Branch1]': 7,\n",
       " '[=O]': 8,\n",
       " '[N]': 9,\n",
       " '[Ring2]': 10,\n",
       " '[C@H1]': 11,\n",
       " '[Branch2]': 12,\n",
       " '[C@@H1]': 13,\n",
       " '[#Branch1]': 14,\n",
       " '[C@@]': 15,\n",
       " '[=N]': 16,\n",
       " '[C@]': 17,\n",
       " '[S]': 18,\n",
       " '[#Branch2]': 19,\n",
       " '[=Branch2]': 20,\n",
       " '[P]': 21,\n",
       " '[#C]': 22,\n",
       " '[/C]': 23,\n",
       " '[F]': 24,\n",
       " '.': 25,\n",
       " '[Cl]': 26,\n",
       " '[NH1]': 27,\n",
       " '[\\\\C]': 28,\n",
       " '[O-1]': 29,\n",
       " '[=Ring1]': 30,\n",
       " '[I]': 31,\n",
       " '[N+1]': 32,\n",
       " '[Na+1]': 33,\n",
       " '[=N+1]': 34,\n",
       " '[/N]': 35,\n",
       " '[=S]': 36,\n",
       " '[/C@H1]': 37,\n",
       " '[#N]': 38,\n",
       " '[Br]': 39,\n",
       " '[=N-1]': 40,\n",
       " '[/O]': 41,\n",
       " '[/C@@H1]': 42,\n",
       " '[=Ring2]': 43,\n",
       " '[\\\\O]': 44,\n",
       " '[Si]': 45,\n",
       " '[\\\\C@@H1]': 46,\n",
       " '[=P]': 47,\n",
       " '[Ca+2]': 48,\n",
       " '[Cl-1]': 49,\n",
       " '[Br-1]': 50,\n",
       " '[B]': 51,\n",
       " '[S+1]': 52,\n",
       " '[-/Ring2]': 53,\n",
       " '[K+1]': 54,\n",
       " '[\\\\C@H1]': 55,\n",
       " '[Mg+2]': 56,\n",
       " '[N-1]': 57,\n",
       " '[I-1]': 58,\n",
       " '[P@@]': 59,\n",
       " '[P@]': 60,\n",
       " '[2H]': 61,\n",
       " '[Branch3]': 62,\n",
       " '[Se]': 63,\n",
       " '[\\\\S]': 64,\n",
       " '[\\\\N]': 65,\n",
       " '[Al+3]': 66,\n",
       " '[11CH3]': 67,\n",
       " '[14CH2]': 68,\n",
       " '[/S]': 69,\n",
       " '[N@+1]': 70,\n",
       " '[11C]': 71,\n",
       " '[18F]': 72,\n",
       " '[Li+1]': 73,\n",
       " '[OH1-1]': 74,\n",
       " '[14CH3]': 75,\n",
       " '[75Se]': 76,\n",
       " '[/Cl]': 77,\n",
       " '[/N+1]': 78,\n",
       " '[\\\\-Ring1]': 79,\n",
       " '[3H]': 80,\n",
       " '[-\\\\Ring2]': 81,\n",
       " '[PH1]': 82,\n",
       " '[Be+2]': 83,\n",
       " '[S-1]': 84,\n",
       " '[OH0]': 85,\n",
       " '[\\\\N+1]': 86,\n",
       " '[125I]': 87,\n",
       " '[As]': 88,\n",
       " '[Ba+2]': 89,\n",
       " '[131I]': 90,\n",
       " '[NH1-1]': 91,\n",
       " '[Pt+2]': 92,\n",
       " '[Ring3]': 93,\n",
       " '[#N+1]': 94,\n",
       " '[/Br]': 95,\n",
       " '[73Se]': 96,\n",
       " '[C-1]': 97,\n",
       " '[Te]': 98,\n",
       " '[Zn+2]': 99,\n",
       " '[/C@]': 100,\n",
       " '[#C-1]': 101,\n",
       " '[O-2]': 102,\n",
       " '[14C]': 103,\n",
       " '[Bi+3]': 104,\n",
       " '[Gd+3]': 105,\n",
       " '[NaH1]': 106,\n",
       " '[Pt+4]': 107,\n",
       " '[\\\\Cl]': 108,\n",
       " '[/-Ring1]': 109,\n",
       " '[125IH1]': 110,\n",
       " '[13C]': 111,\n",
       " '[99Tc]': 112,\n",
       " '[=13CH1]': 113,\n",
       " '[=NH2+1]': 114,\n",
       " '[As+3]': 115,\n",
       " '[BH3-1]': 116,\n",
       " '[Cl+3]': 117,\n",
       " '[\\\\-Ring2]': 118,\n",
       " '[\\\\O-1]': 119,\n",
       " '[/F]': 120,\n",
       " '[22Na+1]': 121,\n",
       " '[85Sr+2]': 122,\n",
       " '[=As]': 123,\n",
       " '[Ag+1]': 124,\n",
       " '[NH4+1]': 125,\n",
       " '[Sr+2]': 126,\n",
       " '[/O-1]': 127,\n",
       " '[123I]': 128,\n",
       " '[124I]': 129,\n",
       " '[13CH1]': 130,\n",
       " '[76Br]': 131,\n",
       " '[=13C]': 132,\n",
       " '[Au+1]': 133,\n",
       " '[B-1]': 134,\n",
       " '[Fe]': 135,\n",
       " '[NH0]': 136,\n",
       " '[PH1+1]': 137,\n",
       " '[\\\\F]': 138,\n",
       " '[/13C]': 139,\n",
       " '[/14CH1]': 140,\n",
       " '[14CH1]': 141,\n",
       " '[19F]': 142,\n",
       " '[35S]': 143,\n",
       " '[99Tc+7]': 144,\n",
       " '[=14CH1]': 145,\n",
       " '[=32P]': 146,\n",
       " '[Ag]': 147,\n",
       " '[Cu+2]': 148,\n",
       " '[Mn]': 149,\n",
       " '[Pt]': 150,\n",
       " '[SiH1]': 151}"
      ]
     },
     "execution_count": 124,
     "metadata": {},
     "output_type": "execute_result"
    }
   ],
   "source": [
    "stoi"
   ]
  },
  {
   "cell_type": "code",
   "execution_count": 125,
   "id": "35920d3c",
   "metadata": {},
   "outputs": [],
   "source": [
    "pro = pro_cond\n",
    "pro_len = 147\n",
    "vocab_size = 128\n",
    "block_size = 359\n",
    "n_layer = 8\n",
    "n_head = 8\n",
    "n_embd = 256\n",
    "scaffold = False\n",
    "lstm = False\n",
    "lstm_layers = 0\n",
    "gen_size = 5000\n",
    "batch_size = 8"
   ]
  },
  {
   "cell_type": "code",
   "execution_count": 126,
   "id": "a064093e",
   "metadata": {},
   "outputs": [],
   "source": [
    "mconf = GPTConfig(vocab_size, block_size, pro_len = pro_len,\n",
    "                       n_layer=n_layer, n_head=n_head, n_embd=n_embd,\n",
    "                       lstm = lstm, lstm_layers = lstm_layers)\n",
    "model = GPT(mconf)"
   ]
  },
  {
   "cell_type": "code",
   "execution_count": 127,
   "id": "713c4bf3",
   "metadata": {},
   "outputs": [
    {
     "name": "stdout",
     "output_type": "stream",
     "text": [
      "Model loaded\n"
     ]
    }
   ],
   "source": [
    "model.load_state_dict(torch.load('../result/models/Transport_seq.pt'))\n",
    "model.to('cuda')\n",
    "print('Model loaded')\n",
    "\n",
    "gen_iter = math.ceil(gen_size / batch_size)"
   ]
  },
  {
   "cell_type": "code",
   "execution_count": 128,
   "id": "d417369a",
   "metadata": {},
   "outputs": [],
   "source": [
    "pattern = \"(\\[[^\\]]+]|<|Br?|Cl?|N|O|S|P|F|I|b|c|n|o|s|p|\\(|\\)|\\.|=|#|-|\\+|\\\\\\\\|\\/|:|~|@|\\?|>|\\*|\\$|\\%[0-9]{2}|[0-9])\"\n",
    "regex = re.compile(pattern)"
   ]
  },
  {
   "cell_type": "code",
   "execution_count": 129,
   "id": "c8f2d6a2",
   "metadata": {},
   "outputs": [],
   "source": [
    "context = '[C]'"
   ]
  },
  {
   "cell_type": "code",
   "execution_count": 130,
   "id": "ad596d74",
   "metadata": {},
   "outputs": [
    {
     "name": "stderr",
     "output_type": "stream",
     "text": [
      "100%|██████████| 625/625 [2:10:51<00:00, 12.56s/it]  \n"
     ]
    }
   ],
   "source": [
    "#pro_based\n",
    "count = 0\n",
    "molecules = []\n",
    "count += 1\n",
    "for i in tqdm(range(gen_iter)):\n",
    "    x = torch.tensor(np.random.randint(128), dtype=torch.long)[None,...].repeat(batch_size, 1).to('cuda')\n",
    "    #x = torch.tensor([stoi[s] for s in regex.findall(context)], dtype=torch.long)[None,...].repeat(batch_size, 1).to('cuda')\n",
    "    p = torch.tensor(pro_cond).repeat(batch_size, 1).unsqueeze(1).to('cuda')\n",
    "    y = sample(model, x, block_size, temperature=0.7, sample=True, top_k=None, pro = p)\n",
    "    for gen_mol in y:\n",
    "        completion = ''.join([itos[int(i)] for i in gen_mol])\n",
    "        completion = completion.replace('<blank>', '')\n",
    "        molecules.append(completion)"
   ]
  },
  {
   "cell_type": "code",
   "execution_count": 131,
   "id": "0beb31ce",
   "metadata": {},
   "outputs": [
    {
     "data": {
      "text/plain": [
       "3357"
      ]
     },
     "execution_count": 131,
     "metadata": {},
     "output_type": "execute_result"
    }
   ],
   "source": [
    "len(set(molecules))"
   ]
  },
  {
   "cell_type": "code",
   "execution_count": 132,
   "id": "fbd28b72",
   "metadata": {},
   "outputs": [
    {
     "data": {
      "text/plain": [
       "0.6714"
      ]
     },
     "execution_count": 132,
     "metadata": {},
     "output_type": "execute_result"
    }
   ],
   "source": [
    "len(set(molecules))/len(molecules)"
   ]
  },
  {
   "cell_type": "code",
   "execution_count": 133,
   "id": "e2524262",
   "metadata": {},
   "outputs": [],
   "source": [
    "mol_df = pd.DataFrame(molecules)\n",
    "mol_df.to_csv(\"../result/molecules/P08183_seq_random_mol.csv\",index=None)"
   ]
  },
  {
   "cell_type": "code",
   "execution_count": null,
   "id": "3ad649c7",
   "metadata": {},
   "outputs": [],
   "source": []
  }
 ],
 "metadata": {
  "kernelspec": {
   "display_name": "DTproject",
   "language": "python",
   "name": "dtproject"
  },
  "language_info": {
   "codemirror_mode": {
    "name": "ipython",
    "version": 3
   },
   "file_extension": ".py",
   "mimetype": "text/x-python",
   "name": "python",
   "nbconvert_exporter": "python",
   "pygments_lexer": "ipython3",
   "version": "3.6.13"
  }
 },
 "nbformat": 4,
 "nbformat_minor": 5
}
