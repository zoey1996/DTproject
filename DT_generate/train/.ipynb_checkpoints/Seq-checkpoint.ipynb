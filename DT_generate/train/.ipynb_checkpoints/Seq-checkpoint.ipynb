{
 "cells": [
  {
   "cell_type": "code",
   "execution_count": 2,
   "id": "fef25810",
   "metadata": {},
   "outputs": [],
   "source": [
    "import pandas as pd\n",
    "import argparse\n",
    "from utils import set_seed\n",
    "import numpy as np\n",
    "import wandb\n",
    "import math\n",
    "import re\n",
    "\n",
    "import torch\n",
    "import torch.nn as nn\n",
    "from torch.utils.data import DataLoader\n",
    "from torch.nn import functional as F\n",
    "from torch.cuda.amp import GradScaler\n",
    "\n",
    "from model import GPT, GPTConfig\n",
    "from trainer import Trainer, TrainerConfig\n",
    "\n",
    "from seq_embedd import SmilesDataset\n",
    "import selfies as sf\n",
    "from PyBioMed.PyProtein import CTD\n",
    "\n",
    "import json"
   ]
  },
  {
   "cell_type": "code",
   "execution_count": 3,
   "id": "0c8253bc",
   "metadata": {},
   "outputs": [],
   "source": [
    "set_seed(42)\n",
    "\n",
    "run_name = \"Transport_seq\""
   ]
  },
  {
   "cell_type": "code",
   "execution_count": 4,
   "id": "87e0ebc9",
   "metadata": {},
   "outputs": [
    {
     "name": "stderr",
     "output_type": "stream",
     "text": [
      "Failed to detect the name of this notebook, you can set it manually with the WANDB_NOTEBOOK_NAME environment variable to enable code saving.\n",
      "\u001b[34m\u001b[1mwandb\u001b[0m: Currently logged in as: \u001b[33mzoey_chen\u001b[0m (use `wandb login --relogin` to force relogin)\n"
     ]
    },
    {
     "data": {
      "text/html": [
       "wandb version 0.12.18 is available!  To upgrade, please run:\n",
       " $ pip install wandb --upgrade"
      ],
      "text/plain": [
       "<IPython.core.display.HTML object>"
      ]
     },
     "metadata": {},
     "output_type": "display_data"
    },
    {
     "data": {
      "text/html": [
       "Tracking run with wandb version 0.12.11"
      ],
      "text/plain": [
       "<IPython.core.display.HTML object>"
      ]
     },
     "metadata": {},
     "output_type": "display_data"
    },
    {
     "data": {
      "text/html": [
       "Run data is saved locally in <code>/home2/cxh/DTproject/DT_generate/train/wandb/run-20220614_213613-3bemxndo</code>"
      ],
      "text/plain": [
       "<IPython.core.display.HTML object>"
      ]
     },
     "metadata": {},
     "output_type": "display_data"
    },
    {
     "data": {
      "text/html": [
       "Syncing run <strong><a href=\"https://wandb.ai/zoey_chen/DTproject/runs/3bemxndo\" target=\"_blank\">Transport_seq</a></strong> to <a href=\"https://wandb.ai/zoey_chen/DTproject\" target=\"_blank\">Weights & Biases</a> (<a href=\"https://wandb.me/run\" target=\"_blank\">docs</a>)<br/>"
      ],
      "text/plain": [
       "<IPython.core.display.HTML object>"
      ]
     },
     "metadata": {},
     "output_type": "display_data"
    },
    {
     "data": {
      "text/html": [
       "<button onClick=\"this.nextSibling.style.display='block';this.style.display='none';\">Display W&B run</button><iframe src=\"https://wandb.ai/zoey_chen/DTproject/runs/3bemxndo?jupyter=true\" style=\"border:none;width:100%;height:420px;display:none;\"></iframe>"
      ],
      "text/plain": [
       "<wandb.sdk.wandb_run.Run at 0x7fb199a6beb8>"
      ]
     },
     "execution_count": 4,
     "metadata": {},
     "output_type": "execute_result"
    }
   ],
   "source": [
    "wandb.init(project=\"DTproject\", name=run_name)"
   ]
  },
  {
   "cell_type": "code",
   "execution_count": 5,
   "id": "dd059898",
   "metadata": {},
   "outputs": [],
   "source": [
    "data = pd.read_csv('../datasets/chemb_drug_selfies.csv')\n",
    "data = data.dropna(axis=0).reset_index(drop=True)\n",
    "data.columns = data.columns.str.lower()"
   ]
  },
  {
   "cell_type": "code",
   "execution_count": 6,
   "id": "b592b0c7",
   "metadata": {},
   "outputs": [
    {
     "data": {
      "text/html": [
       "<div>\n",
       "<style scoped>\n",
       "    .dataframe tbody tr th:only-of-type {\n",
       "        vertical-align: middle;\n",
       "    }\n",
       "\n",
       "    .dataframe tbody tr th {\n",
       "        vertical-align: top;\n",
       "    }\n",
       "\n",
       "    .dataframe thead th {\n",
       "        text-align: right;\n",
       "    }\n",
       "</style>\n",
       "<table border=\"1\" class=\"dataframe\">\n",
       "  <thead>\n",
       "    <tr style=\"text-align: right;\">\n",
       "      <th></th>\n",
       "      <th>dt</th>\n",
       "      <th>smiles</th>\n",
       "      <th>selfies</th>\n",
       "      <th>split</th>\n",
       "    </tr>\n",
       "  </thead>\n",
       "  <tbody>\n",
       "    <tr>\n",
       "      <th>0</th>\n",
       "      <td>dt_P08183</td>\n",
       "      <td>CC(=O)O[C@H]1C(=O)[C@@]2(C)C([C@@H](OC(=O)c3cc...</td>\n",
       "      <td>['[C]', '[C]', '[=Branch1]', '[C]', '[=O]', '[...</td>\n",
       "      <td>train</td>\n",
       "    </tr>\n",
       "    <tr>\n",
       "      <th>1</th>\n",
       "      <td>dt_O15245</td>\n",
       "      <td>COc1ccc2cc3[n+](cc2c1OCCOCCOCCOCCOc1c(OC)ccc2c...</td>\n",
       "      <td>['[C]', '[O]', '[C]', '[=C]', '[C]', '[=C]', '...</td>\n",
       "      <td>train</td>\n",
       "    </tr>\n",
       "    <tr>\n",
       "      <th>2</th>\n",
       "      <td>dt_Q9UNQ0</td>\n",
       "      <td>CC(=O)O[C@H]1C(=O)[C@]2(C)[C@@H](OC(=O)CCCC(=O...</td>\n",
       "      <td>['[C]', '[C]', '[=Branch1]', '[C]', '[=O]', '[...</td>\n",
       "      <td>train</td>\n",
       "    </tr>\n",
       "    <tr>\n",
       "      <th>3</th>\n",
       "      <td>dt_P48065</td>\n",
       "      <td>C[N+](C)(C)CCO</td>\n",
       "      <td>['[C]', '[N+1]', '[Branch1]', '[C]', '[C]', '[...</td>\n",
       "      <td>train</td>\n",
       "    </tr>\n",
       "    <tr>\n",
       "      <th>4</th>\n",
       "      <td>dt_Q9Y6L6</td>\n",
       "      <td>CC[C@@H](C)C(=O)O[C@H]1C[C@@H](C)C=C2C=C[C@H](...</td>\n",
       "      <td>['[C]', '[C]', '[C@@H1]', '[Branch1]', '[C]', ...</td>\n",
       "      <td>train</td>\n",
       "    </tr>\n",
       "  </tbody>\n",
       "</table>\n",
       "</div>"
      ],
      "text/plain": [
       "          dt                                             smiles  \\\n",
       "0  dt_P08183  CC(=O)O[C@H]1C(=O)[C@@]2(C)C([C@@H](OC(=O)c3cc...   \n",
       "1  dt_O15245  COc1ccc2cc3[n+](cc2c1OCCOCCOCCOCCOc1c(OC)ccc2c...   \n",
       "2  dt_Q9UNQ0  CC(=O)O[C@H]1C(=O)[C@]2(C)[C@@H](OC(=O)CCCC(=O...   \n",
       "3  dt_P48065                                     C[N+](C)(C)CCO   \n",
       "4  dt_Q9Y6L6  CC[C@@H](C)C(=O)O[C@H]1C[C@@H](C)C=C2C=C[C@H](...   \n",
       "\n",
       "                                             selfies  split  \n",
       "0  ['[C]', '[C]', '[=Branch1]', '[C]', '[=O]', '[...  train  \n",
       "1  ['[C]', '[O]', '[C]', '[=C]', '[C]', '[=C]', '...  train  \n",
       "2  ['[C]', '[C]', '[=Branch1]', '[C]', '[=O]', '[...  train  \n",
       "3  ['[C]', '[N+1]', '[Branch1]', '[C]', '[C]', '[...  train  \n",
       "4  ['[C]', '[C]', '[C@@H1]', '[Branch1]', '[C]', ...  train  "
      ]
     },
     "execution_count": 6,
     "metadata": {},
     "output_type": "execute_result"
    }
   ],
   "source": [
    "data = data.dropna(axis=0).reset_index(drop=True)\n",
    "data.head()  "
   ]
  },
  {
   "cell_type": "code",
   "execution_count": 7,
   "id": "4800c497",
   "metadata": {},
   "outputs": [],
   "source": [
    "pro_seq = pd.read_csv(\"../datasets/transport_pro_seq.txt\",sep='\\t')\n",
    "pro_seq = pro_seq.dropna(axis=0).reset_index(drop=True)\n",
    "pro_seq = pro_seq.rename(columns={\"uniprot_id\":\"dt\"})"
   ]
  },
  {
   "cell_type": "code",
   "execution_count": 8,
   "id": "fe7ae063",
   "metadata": {},
   "outputs": [
    {
     "data": {
      "text/html": [
       "<div>\n",
       "<style scoped>\n",
       "    .dataframe tbody tr th:only-of-type {\n",
       "        vertical-align: middle;\n",
       "    }\n",
       "\n",
       "    .dataframe tbody tr th {\n",
       "        vertical-align: top;\n",
       "    }\n",
       "\n",
       "    .dataframe thead th {\n",
       "        text-align: right;\n",
       "    }\n",
       "</style>\n",
       "<table border=\"1\" class=\"dataframe\">\n",
       "  <thead>\n",
       "    <tr style=\"text-align: right;\">\n",
       "      <th></th>\n",
       "      <th>dt</th>\n",
       "      <th>seq</th>\n",
       "    </tr>\n",
       "  </thead>\n",
       "  <tbody>\n",
       "    <tr>\n",
       "      <th>0</th>\n",
       "      <td>dt_P08183</td>\n",
       "      <td>MDLEGDRNGGAKKKNFFKLNNKSEKDKKEKKPTVSVFSMFRYSNWL...</td>\n",
       "    </tr>\n",
       "    <tr>\n",
       "      <th>1</th>\n",
       "      <td>dt_Q8TCC7</td>\n",
       "      <td>MTFSEILDRVGSMGHFQFLHVAILGLPILNMANHNLLQIFTAATPV...</td>\n",
       "    </tr>\n",
       "    <tr>\n",
       "      <th>2</th>\n",
       "      <td>dt_Q9NPD5</td>\n",
       "      <td>MDQHQHLNKTAESASSEKKKTRRCNGFKMFLAALSFSYIAKALGGI...</td>\n",
       "    </tr>\n",
       "    <tr>\n",
       "      <th>3</th>\n",
       "      <td>dt_O15244</td>\n",
       "      <td>MPTTVDDVLEHGGEFHFFQKQMFFLLALLSATFAPIYVGIVFLGFT...</td>\n",
       "    </tr>\n",
       "    <tr>\n",
       "      <th>4</th>\n",
       "      <td>dt_Q9Y6L6</td>\n",
       "      <td>MDQNQHLNKTAEAQPSENKKTRYCNGLKMFLAALSLSFIAKTLGAI...</td>\n",
       "    </tr>\n",
       "  </tbody>\n",
       "</table>\n",
       "</div>"
      ],
      "text/plain": [
       "          dt                                                seq\n",
       "0  dt_P08183  MDLEGDRNGGAKKKNFFKLNNKSEKDKKEKKPTVSVFSMFRYSNWL...\n",
       "1  dt_Q8TCC7  MTFSEILDRVGSMGHFQFLHVAILGLPILNMANHNLLQIFTAATPV...\n",
       "2  dt_Q9NPD5  MDQHQHLNKTAESASSEKKKTRRCNGFKMFLAALSFSYIAKALGGI...\n",
       "3  dt_O15244  MPTTVDDVLEHGGEFHFFQKQMFFLLALLSATFAPIYVGIVFLGFT...\n",
       "4  dt_Q9Y6L6  MDQNQHLNKTAEAQPSENKKTRYCNGLKMFLAALSLSFIAKTLGAI..."
      ]
     },
     "execution_count": 8,
     "metadata": {},
     "output_type": "execute_result"
    }
   ],
   "source": [
    "pro_seq.head()"
   ]
  },
  {
   "cell_type": "code",
   "execution_count": 9,
   "id": "6ff5eaf4",
   "metadata": {},
   "outputs": [],
   "source": [
    "merge_data = pd.merge(data,pro_seq,how=\"right\",on=\"dt\")\n",
    "merge_data = merge_data.dropna(axis=0).reset_index(drop=True)"
   ]
  },
  {
   "cell_type": "code",
   "execution_count": 10,
   "id": "58dcf656",
   "metadata": {},
   "outputs": [
    {
     "data": {
      "text/html": [
       "<div>\n",
       "<style scoped>\n",
       "    .dataframe tbody tr th:only-of-type {\n",
       "        vertical-align: middle;\n",
       "    }\n",
       "\n",
       "    .dataframe tbody tr th {\n",
       "        vertical-align: top;\n",
       "    }\n",
       "\n",
       "    .dataframe thead th {\n",
       "        text-align: right;\n",
       "    }\n",
       "</style>\n",
       "<table border=\"1\" class=\"dataframe\">\n",
       "  <thead>\n",
       "    <tr style=\"text-align: right;\">\n",
       "      <th></th>\n",
       "      <th>dt</th>\n",
       "      <th>smiles</th>\n",
       "      <th>selfies</th>\n",
       "      <th>split</th>\n",
       "      <th>seq</th>\n",
       "    </tr>\n",
       "  </thead>\n",
       "  <tbody>\n",
       "    <tr>\n",
       "      <th>0</th>\n",
       "      <td>dt_P08183</td>\n",
       "      <td>CC(=O)O[C@H]1C(=O)[C@@]2(C)C([C@@H](OC(=O)c3cc...</td>\n",
       "      <td>['[C]', '[C]', '[=Branch1]', '[C]', '[=O]', '[...</td>\n",
       "      <td>train</td>\n",
       "      <td>MDLEGDRNGGAKKKNFFKLNNKSEKDKKEKKPTVSVFSMFRYSNWL...</td>\n",
       "    </tr>\n",
       "    <tr>\n",
       "      <th>1</th>\n",
       "      <td>dt_P08183</td>\n",
       "      <td>Cc1c2oc3c(C)ccc(C(=O)NC4C(=O)NC(C(C)C)C(=O)N5C...</td>\n",
       "      <td>['[C]', '[C]', '[=C]', '[O]', '[C]', '[=C]', '...</td>\n",
       "      <td>train</td>\n",
       "      <td>MDLEGDRNGGAKKKNFFKLNNKSEKDKKEKKPTVSVFSMFRYSNWL...</td>\n",
       "    </tr>\n",
       "    <tr>\n",
       "      <th>2</th>\n",
       "      <td>dt_P08183</td>\n",
       "      <td>CC(=O)O[C@@]12CO[C@@H]1C[C@H](O)[C@@]1(C)C(=O)...</td>\n",
       "      <td>['[C]', '[C]', '[=Branch1]', '[C]', '[=O]', '[...</td>\n",
       "      <td>train</td>\n",
       "      <td>MDLEGDRNGGAKKKNFFKLNNKSEKDKKEKKPTVSVFSMFRYSNWL...</td>\n",
       "    </tr>\n",
       "    <tr>\n",
       "      <th>3</th>\n",
       "      <td>dt_P08183</td>\n",
       "      <td>C/C(=C\\C=C\\C=C(/C)\\C=C\\C=C(/C)\\C(=O)C[C@]12[C@...</td>\n",
       "      <td>['[C]', '[/C]', '[=Branch2]', '[Ring2]', '[N]'...</td>\n",
       "      <td>train</td>\n",
       "      <td>MDLEGDRNGGAKKKNFFKLNNKSEKDKKEKKPTVSVFSMFRYSNWL...</td>\n",
       "    </tr>\n",
       "    <tr>\n",
       "      <th>4</th>\n",
       "      <td>dt_P08183</td>\n",
       "      <td>CC(C)OC(=O)OCOP(=O)([O-])CO[C@H](C)Cn1cnc2c(N)...</td>\n",
       "      <td>['[C]', '[C]', '[Branch1]', '[C]', '[C]', '[O]...</td>\n",
       "      <td>train</td>\n",
       "      <td>MDLEGDRNGGAKKKNFFKLNNKSEKDKKEKKPTVSVFSMFRYSNWL...</td>\n",
       "    </tr>\n",
       "    <tr>\n",
       "      <th>...</th>\n",
       "      <td>...</td>\n",
       "      <td>...</td>\n",
       "      <td>...</td>\n",
       "      <td>...</td>\n",
       "      <td>...</td>\n",
       "    </tr>\n",
       "    <tr>\n",
       "      <th>24049</th>\n",
       "      <td>dt_Q13183</td>\n",
       "      <td>[O-]S(=O)(=O)[O-]</td>\n",
       "      <td>['[O-1]', '[S]', '[=Branch1]', '[C]', '[=O]', ...</td>\n",
       "      <td>train</td>\n",
       "      <td>MATCWQALWAYRSYLIVFFVPILLLPLPILVPSKEAYCAYAIILMA...</td>\n",
       "    </tr>\n",
       "    <tr>\n",
       "      <th>24050</th>\n",
       "      <td>dt_Q13183</td>\n",
       "      <td>O=S(=O)([O-])[O-].[Ca+2]</td>\n",
       "      <td>['[O]', '[=S]', '[=Branch1]', '[C]', '[=O]', '...</td>\n",
       "      <td>train</td>\n",
       "      <td>MATCWQALWAYRSYLIVFFVPILLLPLPILVPSKEAYCAYAIILMA...</td>\n",
       "    </tr>\n",
       "    <tr>\n",
       "      <th>24051</th>\n",
       "      <td>dt_Q13183</td>\n",
       "      <td>C(C(=O)O)C(=O)O</td>\n",
       "      <td>['[C]', '[Branch1]', '[=Branch1]', '[C]', '[=B...</td>\n",
       "      <td>test</td>\n",
       "      <td>MATCWQALWAYRSYLIVFFVPILLLPLPILVPSKEAYCAYAIILMA...</td>\n",
       "    </tr>\n",
       "    <tr>\n",
       "      <th>24052</th>\n",
       "      <td>dt_Q13183</td>\n",
       "      <td>O=S(=O)([O-])[O-].[Zn+2]</td>\n",
       "      <td>['[O]', '[=S]', '[=Branch1]', '[C]', '[=O]', '...</td>\n",
       "      <td>test</td>\n",
       "      <td>MATCWQALWAYRSYLIVFFVPILLLPLPILVPSKEAYCAYAIILMA...</td>\n",
       "    </tr>\n",
       "    <tr>\n",
       "      <th>24053</th>\n",
       "      <td>dt_Q13183</td>\n",
       "      <td>O=C(O)CC(=O)O</td>\n",
       "      <td>['[O]', '[=C]', '[Branch1]', '[C]', '[O]', '[C...</td>\n",
       "      <td>test</td>\n",
       "      <td>MATCWQALWAYRSYLIVFFVPILLLPLPILVPSKEAYCAYAIILMA...</td>\n",
       "    </tr>\n",
       "  </tbody>\n",
       "</table>\n",
       "<p>24054 rows × 5 columns</p>\n",
       "</div>"
      ],
      "text/plain": [
       "              dt                                             smiles  \\\n",
       "0      dt_P08183  CC(=O)O[C@H]1C(=O)[C@@]2(C)C([C@@H](OC(=O)c3cc...   \n",
       "1      dt_P08183  Cc1c2oc3c(C)ccc(C(=O)NC4C(=O)NC(C(C)C)C(=O)N5C...   \n",
       "2      dt_P08183  CC(=O)O[C@@]12CO[C@@H]1C[C@H](O)[C@@]1(C)C(=O)...   \n",
       "3      dt_P08183  C/C(=C\\C=C\\C=C(/C)\\C=C\\C=C(/C)\\C(=O)C[C@]12[C@...   \n",
       "4      dt_P08183  CC(C)OC(=O)OCOP(=O)([O-])CO[C@H](C)Cn1cnc2c(N)...   \n",
       "...          ...                                                ...   \n",
       "24049  dt_Q13183                                  [O-]S(=O)(=O)[O-]   \n",
       "24050  dt_Q13183                           O=S(=O)([O-])[O-].[Ca+2]   \n",
       "24051  dt_Q13183                                    C(C(=O)O)C(=O)O   \n",
       "24052  dt_Q13183                           O=S(=O)([O-])[O-].[Zn+2]   \n",
       "24053  dt_Q13183                                      O=C(O)CC(=O)O   \n",
       "\n",
       "                                                 selfies  split  \\\n",
       "0      ['[C]', '[C]', '[=Branch1]', '[C]', '[=O]', '[...  train   \n",
       "1      ['[C]', '[C]', '[=C]', '[O]', '[C]', '[=C]', '...  train   \n",
       "2      ['[C]', '[C]', '[=Branch1]', '[C]', '[=O]', '[...  train   \n",
       "3      ['[C]', '[/C]', '[=Branch2]', '[Ring2]', '[N]'...  train   \n",
       "4      ['[C]', '[C]', '[Branch1]', '[C]', '[C]', '[O]...  train   \n",
       "...                                                  ...    ...   \n",
       "24049  ['[O-1]', '[S]', '[=Branch1]', '[C]', '[=O]', ...  train   \n",
       "24050  ['[O]', '[=S]', '[=Branch1]', '[C]', '[=O]', '...  train   \n",
       "24051  ['[C]', '[Branch1]', '[=Branch1]', '[C]', '[=B...   test   \n",
       "24052  ['[O]', '[=S]', '[=Branch1]', '[C]', '[=O]', '...   test   \n",
       "24053  ['[O]', '[=C]', '[Branch1]', '[C]', '[O]', '[C...   test   \n",
       "\n",
       "                                                     seq  \n",
       "0      MDLEGDRNGGAKKKNFFKLNNKSEKDKKEKKPTVSVFSMFRYSNWL...  \n",
       "1      MDLEGDRNGGAKKKNFFKLNNKSEKDKKEKKPTVSVFSMFRYSNWL...  \n",
       "2      MDLEGDRNGGAKKKNFFKLNNKSEKDKKEKKPTVSVFSMFRYSNWL...  \n",
       "3      MDLEGDRNGGAKKKNFFKLNNKSEKDKKEKKPTVSVFSMFRYSNWL...  \n",
       "4      MDLEGDRNGGAKKKNFFKLNNKSEKDKKEKKPTVSVFSMFRYSNWL...  \n",
       "...                                                  ...  \n",
       "24049  MATCWQALWAYRSYLIVFFVPILLLPLPILVPSKEAYCAYAIILMA...  \n",
       "24050  MATCWQALWAYRSYLIVFFVPILLLPLPILVPSKEAYCAYAIILMA...  \n",
       "24051  MATCWQALWAYRSYLIVFFVPILLLPLPILVPSKEAYCAYAIILMA...  \n",
       "24052  MATCWQALWAYRSYLIVFFVPILLLPLPILVPSKEAYCAYAIILMA...  \n",
       "24053  MATCWQALWAYRSYLIVFFVPILLLPLPILVPSKEAYCAYAIILMA...  \n",
       "\n",
       "[24054 rows x 5 columns]"
      ]
     },
     "execution_count": 10,
     "metadata": {},
     "output_type": "execute_result"
    }
   ],
   "source": [
    "merge_data"
   ]
  },
  {
   "cell_type": "code",
   "execution_count": 11,
   "id": "d13dd48e",
   "metadata": {},
   "outputs": [
    {
     "name": "stdout",
     "output_type": "stream",
     "text": [
      "17146\n",
      "6908\n"
     ]
    }
   ],
   "source": [
    "#Get selfies train and validation datasets\n",
    "\n",
    "train_data = merge_data[merge_data['split'] == 'train'].reset_index(drop=True)\n",
    "val_data = merge_data[merge_data['split'] == 'test'].reset_index(drop=True)\n",
    "\n",
    "selfies_list = list(train_data['selfies'])\n",
    "vselfies_list = list(val_data['selfies'])\n",
    "\n",
    "print(len(selfies_list))\n",
    "print(len(vselfies_list))"
   ]
  },
  {
   "cell_type": "code",
   "execution_count": 12,
   "id": "450df4b0",
   "metadata": {},
   "outputs": [
    {
     "name": "stdout",
     "output_type": "stream",
     "text": [
      "128\n"
     ]
    }
   ],
   "source": [
    "#Get All charsets from datasets\n",
    "\n",
    "from torchtext.legacy import data as d\n",
    "from torchtext.vocab import Vectors\n",
    "\n",
    "\n",
    "all_selfies = data['selfies'].to_list()\n",
    "BLANK_WORD = \"<blank>\"\n",
    "tokenizer = lambda x: x.split()\n",
    "TGT = d.Field(tokenize=tokenizer,pad_token=BLANK_WORD)\n",
    "src = []\n",
    "src_len = []\n",
    "for i in all_selfies:\n",
    "    i = i[2:-2].replace(\"\\\\\\\\\",\"\\\\\")\n",
    "    src.append(i.split(\"', '\"))\n",
    "    src_len.append(len(i.split(\"', '\")))\n",
    "#max_len = max(src_len) + 2\n",
    "\n",
    "TGT.build_vocab(src)\n",
    "#vocab_size = len(TGT.vocab.freqs.most_common()) + 3\n",
    "\n",
    "\n",
    "whole_string = []\n",
    "for k in TGT.vocab.stoi.keys():\n",
    "    whole_string.append(k)\n",
    "print(len(whole_string))"
   ]
  },
  {
   "cell_type": "code",
   "execution_count": 13,
   "id": "597798ec",
   "metadata": {},
   "outputs": [],
   "source": [
    "#Get All charsets index\n",
    "stoi = json.load(open(f'../datasets/drug_selfies_stoi.json', 'r'))\n",
    "itos = dict(zip(stoi.values(), stoi.keys()))"
   ]
  },
  {
   "cell_type": "code",
   "execution_count": 14,
   "id": "a1930dba",
   "metadata": {},
   "outputs": [
    {
     "data": {
      "text/plain": [
       "359"
      ]
     },
     "execution_count": 14,
     "metadata": {},
     "output_type": "execute_result"
    }
   ],
   "source": [
    "#Gets the longest string to be flattened later\n",
    "\n",
    "max_len = max(src_len)\n",
    "max_len"
   ]
  },
  {
   "cell_type": "code",
   "execution_count": 15,
   "id": "bd2cceb2",
   "metadata": {},
   "outputs": [],
   "source": [
    "#Treat selfies as inputs of equal length to guarantee that the input model does not have dimensional problems\n",
    "\n",
    "selfies = []\n",
    "BLANK_WORD = '<blank>'\n",
    "for s in selfies_list:\n",
    "    s = eval(s)\n",
    "    while len(s) < max_len+1:   #In case the end information is lost\n",
    "        s.append(BLANK_WORD)\n",
    "    \n",
    "    selfies.append(s)\n",
    "    \n",
    "vselfies = [] \n",
    "#BOS_WORD = '<s>'\n",
    "#EOS_WORD = '</s>'\n",
    "BLANK_WORD = '<blank>'\n",
    "for vs in vselfies_list:\n",
    "    vs = eval(vs)\n",
    "    while len(vs) < max_len+1:  #In case the end information is lost\n",
    "        vs.append(BLANK_WORD)\n",
    "    \n",
    "    vselfies.append(vs)"
   ]
  },
  {
   "cell_type": "code",
   "execution_count": 16,
   "id": "8c3ec718",
   "metadata": {},
   "outputs": [],
   "source": [
    "#Obtain protein sequence conditions\n",
    "\n",
    "pro = train_data[\"seq\"]\n",
    "vpro = val_data[\"seq\"]\n",
    "\n",
    "#Obtain protein sequence embedding length\n",
    "pro_len=147"
   ]
  },
  {
   "cell_type": "code",
   "execution_count": 17,
   "id": "cefcdd50",
   "metadata": {},
   "outputs": [
    {
     "name": "stdout",
     "output_type": "stream",
     "text": [
      "data has 17146 smiles, 128 unique characters.\n",
      "data has 6908 smiles, 128 unique characters.\n"
     ]
    }
   ],
   "source": [
    "train_dataset = SmilesDataset(selfies,whole_string,stoi,itos,max_len,aug_prob=0,pro=pro)\n",
    "valid_dataset = SmilesDataset(vselfies,whole_string,stoi,itos,max_len,aug_prob=0,pro=vpro)"
   ]
  },
  {
   "cell_type": "code",
   "execution_count": 30,
   "id": "1b91b419",
   "metadata": {},
   "outputs": [],
   "source": [
    "#parameters\n",
    "n_layer = 8\n",
    "n_head = 8\n",
    "n_embd = 256\n",
    "\n",
    "max_epochs = 10\n",
    "batch_size = 16\n",
    "learning_rate = 6e-4"
   ]
  },
  {
   "cell_type": "code",
   "execution_count": 31,
   "id": "f975dfb2",
   "metadata": {},
   "outputs": [],
   "source": [
    "mconf = GPTConfig(train_dataset.vocab_size, train_dataset.max_len, pro_len=pro_len,  # args.num_props,\n",
    "                        n_layer=n_layer, n_head=n_head, n_embd=n_embd,\n",
    "                        lstm=False)"
   ]
  },
  {
   "cell_type": "code",
   "execution_count": 32,
   "id": "f8821fea",
   "metadata": {},
   "outputs": [],
   "source": [
    "model = GPT(mconf)"
   ]
  },
  {
   "cell_type": "code",
   "execution_count": 33,
   "id": "4fe63cae",
   "metadata": {},
   "outputs": [],
   "source": [
    "tconf = TrainerConfig(max_epochs=max_epochs, batch_size=batch_size, \n",
    "                      learning_rate=learning_rate,\n",
    "                      lr_decay=True, warmup_tokens=0.1*len(train_data)*max_len, \n",
    "                      final_tokens= max_epochs*len(train_data)*max_len,\n",
    "                      num_workers=0, \n",
    "                      ckpt_path=f'../result/models/{run_name}.pt', \n",
    "                      block_size=train_dataset.max_len, generate=False)"
   ]
  },
  {
   "cell_type": "code",
   "execution_count": 34,
   "id": "d172d334",
   "metadata": {},
   "outputs": [],
   "source": [
    "trainer = Trainer(model, train_dataset, valid_dataset,\n",
    "                  tconf, train_dataset.stoi, train_dataset.itos)"
   ]
  },
  {
   "cell_type": "code",
   "execution_count": 35,
   "id": "0023b6b1",
   "metadata": {},
   "outputs": [
    {
     "name": "stderr",
     "output_type": "stream",
     "text": [
      "  0%|          | 0/2144 [00:00<?, ?it/s]\n"
     ]
    },
    {
     "ename": "RuntimeError",
     "evalue": "CUDA out of memory. Tried to allocate 16.00 MiB (GPU 0; 10.73 GiB total capacity; 2.39 GiB already allocated; 12.19 MiB free; 2.41 GiB reserved in total by PyTorch)",
     "output_type": "error",
     "traceback": [
      "\u001b[0;31m---------------------------------------------------------------------------\u001b[0m",
      "\u001b[0;31mRuntimeError\u001b[0m                              Traceback (most recent call last)",
      "\u001b[0;32m<ipython-input-35-d92d74cb31bb>\u001b[0m in \u001b[0;36m<module>\u001b[0;34m\u001b[0m\n\u001b[0;32m----> 1\u001b[0;31m \u001b[0mdf\u001b[0m \u001b[0;34m=\u001b[0m \u001b[0mtrainer\u001b[0m\u001b[0;34m.\u001b[0m\u001b[0mtrain\u001b[0m\u001b[0;34m(\u001b[0m\u001b[0mwandb\u001b[0m\u001b[0;34m)\u001b[0m\u001b[0;34m\u001b[0m\u001b[0;34m\u001b[0m\u001b[0m\n\u001b[0m",
      "\u001b[0;32m~/DTproject/DT_generate/train/trainer.py\u001b[0m in \u001b[0;36mtrain\u001b[0;34m(self, wandb)\u001b[0m\n\u001b[1;32m    148\u001b[0m         \u001b[0;32mfor\u001b[0m \u001b[0mepoch\u001b[0m \u001b[0;32min\u001b[0m \u001b[0mrange\u001b[0m\u001b[0;34m(\u001b[0m\u001b[0mconfig\u001b[0m\u001b[0;34m.\u001b[0m\u001b[0mmax_epochs\u001b[0m\u001b[0;34m)\u001b[0m\u001b[0;34m:\u001b[0m\u001b[0;34m\u001b[0m\u001b[0;34m\u001b[0m\u001b[0m\n\u001b[1;32m    149\u001b[0m \u001b[0;34m\u001b[0m\u001b[0m\n\u001b[0;32m--> 150\u001b[0;31m             \u001b[0mtrain_loss\u001b[0m \u001b[0;34m=\u001b[0m \u001b[0mrun_epoch\u001b[0m\u001b[0;34m(\u001b[0m\u001b[0;34m'train'\u001b[0m\u001b[0;34m)\u001b[0m\u001b[0;34m\u001b[0m\u001b[0;34m\u001b[0m\u001b[0m\n\u001b[0m\u001b[1;32m    151\u001b[0m             \u001b[0;32mif\u001b[0m \u001b[0mself\u001b[0m\u001b[0;34m.\u001b[0m\u001b[0mtest_dataset\u001b[0m \u001b[0;32mis\u001b[0m \u001b[0;32mnot\u001b[0m \u001b[0;32mNone\u001b[0m\u001b[0;34m:\u001b[0m\u001b[0;34m\u001b[0m\u001b[0;34m\u001b[0m\u001b[0m\n\u001b[1;32m    152\u001b[0m                 \u001b[0mtest_loss\u001b[0m \u001b[0;34m=\u001b[0m \u001b[0mrun_epoch\u001b[0m\u001b[0;34m(\u001b[0m\u001b[0;34m'test'\u001b[0m\u001b[0;34m)\u001b[0m\u001b[0;34m\u001b[0m\u001b[0;34m\u001b[0m\u001b[0m\n",
      "\u001b[0;32m~/DTproject/DT_generate/train/trainer.py\u001b[0m in \u001b[0;36mrun_epoch\u001b[0;34m(split)\u001b[0m\n\u001b[1;32m    100\u001b[0m                 \u001b[0;32mwith\u001b[0m \u001b[0mtorch\u001b[0m\u001b[0;34m.\u001b[0m\u001b[0mcuda\u001b[0m\u001b[0;34m.\u001b[0m\u001b[0mamp\u001b[0m\u001b[0;34m.\u001b[0m\u001b[0mautocast\u001b[0m\u001b[0;34m(\u001b[0m\u001b[0;34m)\u001b[0m\u001b[0;34m:\u001b[0m\u001b[0;34m\u001b[0m\u001b[0;34m\u001b[0m\u001b[0m\n\u001b[1;32m    101\u001b[0m                     \u001b[0;32mwith\u001b[0m \u001b[0mtorch\u001b[0m\u001b[0;34m.\u001b[0m\u001b[0mset_grad_enabled\u001b[0m\u001b[0;34m(\u001b[0m\u001b[0mis_train\u001b[0m\u001b[0;34m)\u001b[0m\u001b[0;34m:\u001b[0m\u001b[0;34m\u001b[0m\u001b[0;34m\u001b[0m\u001b[0m\n\u001b[0;32m--> 102\u001b[0;31m                         \u001b[0mlogits\u001b[0m\u001b[0;34m,\u001b[0m \u001b[0mloss\u001b[0m\u001b[0;34m,\u001b[0m \u001b[0m_\u001b[0m \u001b[0;34m=\u001b[0m \u001b[0mmodel\u001b[0m\u001b[0;34m(\u001b[0m\u001b[0mx\u001b[0m\u001b[0;34m,\u001b[0m \u001b[0my\u001b[0m\u001b[0;34m,\u001b[0m \u001b[0mp\u001b[0m\u001b[0;34m)\u001b[0m\u001b[0;34m\u001b[0m\u001b[0;34m\u001b[0m\u001b[0m\n\u001b[0m\u001b[1;32m    103\u001b[0m                         \u001b[0mloss\u001b[0m \u001b[0;34m=\u001b[0m \u001b[0mloss\u001b[0m\u001b[0;34m.\u001b[0m\u001b[0mmean\u001b[0m\u001b[0;34m(\u001b[0m\u001b[0;34m)\u001b[0m \u001b[0;31m# collapse all losses if they are scattered on multiple gpus\u001b[0m\u001b[0;34m\u001b[0m\u001b[0;34m\u001b[0m\u001b[0m\n\u001b[1;32m    104\u001b[0m                         \u001b[0mlosses\u001b[0m\u001b[0;34m.\u001b[0m\u001b[0mappend\u001b[0m\u001b[0;34m(\u001b[0m\u001b[0mloss\u001b[0m\u001b[0;34m.\u001b[0m\u001b[0mitem\u001b[0m\u001b[0;34m(\u001b[0m\u001b[0;34m)\u001b[0m\u001b[0;34m)\u001b[0m\u001b[0;34m\u001b[0m\u001b[0;34m\u001b[0m\u001b[0m\n",
      "\u001b[0;32m~/anaconda3/envs/DTproject/lib/python3.6/site-packages/torch/nn/modules/module.py\u001b[0m in \u001b[0;36m_call_impl\u001b[0;34m(self, *input, **kwargs)\u001b[0m\n\u001b[1;32m    887\u001b[0m             \u001b[0mresult\u001b[0m \u001b[0;34m=\u001b[0m \u001b[0mself\u001b[0m\u001b[0;34m.\u001b[0m\u001b[0m_slow_forward\u001b[0m\u001b[0;34m(\u001b[0m\u001b[0;34m*\u001b[0m\u001b[0minput\u001b[0m\u001b[0;34m,\u001b[0m \u001b[0;34m**\u001b[0m\u001b[0mkwargs\u001b[0m\u001b[0;34m)\u001b[0m\u001b[0;34m\u001b[0m\u001b[0;34m\u001b[0m\u001b[0m\n\u001b[1;32m    888\u001b[0m         \u001b[0;32melse\u001b[0m\u001b[0;34m:\u001b[0m\u001b[0;34m\u001b[0m\u001b[0;34m\u001b[0m\u001b[0m\n\u001b[0;32m--> 889\u001b[0;31m             \u001b[0mresult\u001b[0m \u001b[0;34m=\u001b[0m \u001b[0mself\u001b[0m\u001b[0;34m.\u001b[0m\u001b[0mforward\u001b[0m\u001b[0;34m(\u001b[0m\u001b[0;34m*\u001b[0m\u001b[0minput\u001b[0m\u001b[0;34m,\u001b[0m \u001b[0;34m**\u001b[0m\u001b[0mkwargs\u001b[0m\u001b[0;34m)\u001b[0m\u001b[0;34m\u001b[0m\u001b[0;34m\u001b[0m\u001b[0m\n\u001b[0m\u001b[1;32m    890\u001b[0m         for hook in itertools.chain(\n\u001b[1;32m    891\u001b[0m                 \u001b[0m_global_forward_hooks\u001b[0m\u001b[0;34m.\u001b[0m\u001b[0mvalues\u001b[0m\u001b[0;34m(\u001b[0m\u001b[0;34m)\u001b[0m\u001b[0;34m,\u001b[0m\u001b[0;34m\u001b[0m\u001b[0;34m\u001b[0m\u001b[0m\n",
      "\u001b[0;32m~/DTproject/DT_generate/train/model.py\u001b[0m in \u001b[0;36mforward\u001b[0;34m(self, idx, targets, pro)\u001b[0m\n\u001b[1;32m    216\u001b[0m \u001b[0;34m\u001b[0m\u001b[0m\n\u001b[1;32m    217\u001b[0m         \u001b[0;32mfor\u001b[0m \u001b[0mlayer\u001b[0m \u001b[0;32min\u001b[0m \u001b[0mself\u001b[0m\u001b[0;34m.\u001b[0m\u001b[0mblocks\u001b[0m\u001b[0;34m:\u001b[0m\u001b[0;34m\u001b[0m\u001b[0;34m\u001b[0m\u001b[0m\n\u001b[0;32m--> 218\u001b[0;31m             \u001b[0mx\u001b[0m\u001b[0;34m,\u001b[0m \u001b[0mattn\u001b[0m \u001b[0;34m=\u001b[0m \u001b[0mlayer\u001b[0m\u001b[0;34m(\u001b[0m\u001b[0mx\u001b[0m\u001b[0;34m)\u001b[0m\u001b[0;34m\u001b[0m\u001b[0;34m\u001b[0m\u001b[0m\n\u001b[0m\u001b[1;32m    219\u001b[0m             \u001b[0mattn_maps\u001b[0m\u001b[0;34m.\u001b[0m\u001b[0mappend\u001b[0m\u001b[0;34m(\u001b[0m\u001b[0mattn\u001b[0m\u001b[0;34m)\u001b[0m\u001b[0;34m\u001b[0m\u001b[0;34m\u001b[0m\u001b[0m\n\u001b[1;32m    220\u001b[0m \u001b[0;34m\u001b[0m\u001b[0m\n",
      "\u001b[0;32m~/anaconda3/envs/DTproject/lib/python3.6/site-packages/torch/nn/modules/module.py\u001b[0m in \u001b[0;36m_call_impl\u001b[0;34m(self, *input, **kwargs)\u001b[0m\n\u001b[1;32m    887\u001b[0m             \u001b[0mresult\u001b[0m \u001b[0;34m=\u001b[0m \u001b[0mself\u001b[0m\u001b[0;34m.\u001b[0m\u001b[0m_slow_forward\u001b[0m\u001b[0;34m(\u001b[0m\u001b[0;34m*\u001b[0m\u001b[0minput\u001b[0m\u001b[0;34m,\u001b[0m \u001b[0;34m**\u001b[0m\u001b[0mkwargs\u001b[0m\u001b[0;34m)\u001b[0m\u001b[0;34m\u001b[0m\u001b[0;34m\u001b[0m\u001b[0m\n\u001b[1;32m    888\u001b[0m         \u001b[0;32melse\u001b[0m\u001b[0;34m:\u001b[0m\u001b[0;34m\u001b[0m\u001b[0;34m\u001b[0m\u001b[0m\n\u001b[0;32m--> 889\u001b[0;31m             \u001b[0mresult\u001b[0m \u001b[0;34m=\u001b[0m \u001b[0mself\u001b[0m\u001b[0;34m.\u001b[0m\u001b[0mforward\u001b[0m\u001b[0;34m(\u001b[0m\u001b[0;34m*\u001b[0m\u001b[0minput\u001b[0m\u001b[0;34m,\u001b[0m \u001b[0;34m**\u001b[0m\u001b[0mkwargs\u001b[0m\u001b[0;34m)\u001b[0m\u001b[0;34m\u001b[0m\u001b[0;34m\u001b[0m\u001b[0m\n\u001b[0m\u001b[1;32m    890\u001b[0m         for hook in itertools.chain(\n\u001b[1;32m    891\u001b[0m                 \u001b[0m_global_forward_hooks\u001b[0m\u001b[0;34m.\u001b[0m\u001b[0mvalues\u001b[0m\u001b[0;34m(\u001b[0m\u001b[0;34m)\u001b[0m\u001b[0;34m,\u001b[0m\u001b[0;34m\u001b[0m\u001b[0;34m\u001b[0m\u001b[0m\n",
      "\u001b[0;32m~/DTproject/DT_generate/train/model.py\u001b[0m in \u001b[0;36mforward\u001b[0;34m(self, x)\u001b[0m\n\u001b[1;32m     99\u001b[0m \u001b[0;34m\u001b[0m\u001b[0m\n\u001b[1;32m    100\u001b[0m     \u001b[0;32mdef\u001b[0m \u001b[0mforward\u001b[0m\u001b[0;34m(\u001b[0m\u001b[0mself\u001b[0m\u001b[0;34m,\u001b[0m \u001b[0mx\u001b[0m\u001b[0;34m)\u001b[0m\u001b[0;34m:\u001b[0m\u001b[0;34m\u001b[0m\u001b[0;34m\u001b[0m\u001b[0m\n\u001b[0;32m--> 101\u001b[0;31m         \u001b[0my\u001b[0m\u001b[0;34m,\u001b[0m \u001b[0mattn\u001b[0m \u001b[0;34m=\u001b[0m \u001b[0mself\u001b[0m\u001b[0;34m.\u001b[0m\u001b[0mattn\u001b[0m\u001b[0;34m(\u001b[0m\u001b[0mself\u001b[0m\u001b[0;34m.\u001b[0m\u001b[0mln1\u001b[0m\u001b[0;34m(\u001b[0m\u001b[0mx\u001b[0m\u001b[0;34m)\u001b[0m\u001b[0;34m)\u001b[0m\u001b[0;34m\u001b[0m\u001b[0;34m\u001b[0m\u001b[0m\n\u001b[0m\u001b[1;32m    102\u001b[0m         \u001b[0mx\u001b[0m \u001b[0;34m=\u001b[0m \u001b[0mx\u001b[0m \u001b[0;34m+\u001b[0m \u001b[0my\u001b[0m\u001b[0;34m\u001b[0m\u001b[0;34m\u001b[0m\u001b[0m\n\u001b[1;32m    103\u001b[0m         \u001b[0mx\u001b[0m \u001b[0;34m=\u001b[0m \u001b[0mx\u001b[0m \u001b[0;34m+\u001b[0m \u001b[0mself\u001b[0m\u001b[0;34m.\u001b[0m\u001b[0mmlp\u001b[0m\u001b[0;34m(\u001b[0m\u001b[0mself\u001b[0m\u001b[0;34m.\u001b[0m\u001b[0mln2\u001b[0m\u001b[0;34m(\u001b[0m\u001b[0mx\u001b[0m\u001b[0;34m)\u001b[0m\u001b[0;34m)\u001b[0m\u001b[0;34m\u001b[0m\u001b[0;34m\u001b[0m\u001b[0m\n",
      "\u001b[0;32m~/anaconda3/envs/DTproject/lib/python3.6/site-packages/torch/nn/modules/module.py\u001b[0m in \u001b[0;36m_call_impl\u001b[0;34m(self, *input, **kwargs)\u001b[0m\n\u001b[1;32m    887\u001b[0m             \u001b[0mresult\u001b[0m \u001b[0;34m=\u001b[0m \u001b[0mself\u001b[0m\u001b[0;34m.\u001b[0m\u001b[0m_slow_forward\u001b[0m\u001b[0;34m(\u001b[0m\u001b[0;34m*\u001b[0m\u001b[0minput\u001b[0m\u001b[0;34m,\u001b[0m \u001b[0;34m**\u001b[0m\u001b[0mkwargs\u001b[0m\u001b[0;34m)\u001b[0m\u001b[0;34m\u001b[0m\u001b[0;34m\u001b[0m\u001b[0m\n\u001b[1;32m    888\u001b[0m         \u001b[0;32melse\u001b[0m\u001b[0;34m:\u001b[0m\u001b[0;34m\u001b[0m\u001b[0;34m\u001b[0m\u001b[0m\n\u001b[0;32m--> 889\u001b[0;31m             \u001b[0mresult\u001b[0m \u001b[0;34m=\u001b[0m \u001b[0mself\u001b[0m\u001b[0;34m.\u001b[0m\u001b[0mforward\u001b[0m\u001b[0;34m(\u001b[0m\u001b[0;34m*\u001b[0m\u001b[0minput\u001b[0m\u001b[0;34m,\u001b[0m \u001b[0;34m**\u001b[0m\u001b[0mkwargs\u001b[0m\u001b[0;34m)\u001b[0m\u001b[0;34m\u001b[0m\u001b[0;34m\u001b[0m\u001b[0m\n\u001b[0m\u001b[1;32m    890\u001b[0m         for hook in itertools.chain(\n\u001b[1;32m    891\u001b[0m                 \u001b[0m_global_forward_hooks\u001b[0m\u001b[0;34m.\u001b[0m\u001b[0mvalues\u001b[0m\u001b[0;34m(\u001b[0m\u001b[0;34m)\u001b[0m\u001b[0;34m,\u001b[0m\u001b[0;34m\u001b[0m\u001b[0;34m\u001b[0m\u001b[0m\n",
      "\u001b[0;32m~/DTproject/DT_generate/train/model.py\u001b[0m in \u001b[0;36mforward\u001b[0;34m(self, x, layer_past)\u001b[0m\n\u001b[1;32m     71\u001b[0m \u001b[0;34m\u001b[0m\u001b[0m\n\u001b[1;32m     72\u001b[0m         \u001b[0;31m# causal self-attention; Self-attend: (B, nh, T, hs) x (B, nh, hs, T) -> (B, nh, T, T)\u001b[0m\u001b[0;34m\u001b[0m\u001b[0;34m\u001b[0m\u001b[0;34m\u001b[0m\u001b[0m\n\u001b[0;32m---> 73\u001b[0;31m         \u001b[0matt\u001b[0m \u001b[0;34m=\u001b[0m \u001b[0;34m(\u001b[0m\u001b[0mq\u001b[0m \u001b[0;34m@\u001b[0m \u001b[0mk\u001b[0m\u001b[0;34m.\u001b[0m\u001b[0mtranspose\u001b[0m\u001b[0;34m(\u001b[0m\u001b[0;34m-\u001b[0m\u001b[0;36m2\u001b[0m\u001b[0;34m,\u001b[0m \u001b[0;34m-\u001b[0m\u001b[0;36m1\u001b[0m\u001b[0;34m)\u001b[0m\u001b[0;34m)\u001b[0m \u001b[0;34m*\u001b[0m \u001b[0;34m(\u001b[0m\u001b[0;36m1.0\u001b[0m \u001b[0;34m/\u001b[0m \u001b[0mmath\u001b[0m\u001b[0;34m.\u001b[0m\u001b[0msqrt\u001b[0m\u001b[0;34m(\u001b[0m\u001b[0mk\u001b[0m\u001b[0;34m.\u001b[0m\u001b[0msize\u001b[0m\u001b[0;34m(\u001b[0m\u001b[0;34m-\u001b[0m\u001b[0;36m1\u001b[0m\u001b[0;34m)\u001b[0m\u001b[0;34m)\u001b[0m\u001b[0;34m)\u001b[0m\u001b[0;34m\u001b[0m\u001b[0;34m\u001b[0m\u001b[0m\n\u001b[0m\u001b[1;32m     74\u001b[0m         \u001b[0matt\u001b[0m \u001b[0;34m=\u001b[0m \u001b[0matt\u001b[0m\u001b[0;34m.\u001b[0m\u001b[0mmasked_fill\u001b[0m\u001b[0;34m(\u001b[0m\u001b[0mself\u001b[0m\u001b[0;34m.\u001b[0m\u001b[0mmask\u001b[0m\u001b[0;34m[\u001b[0m\u001b[0;34m:\u001b[0m\u001b[0;34m,\u001b[0m\u001b[0;34m:\u001b[0m\u001b[0;34m,\u001b[0m\u001b[0;34m:\u001b[0m\u001b[0mT\u001b[0m\u001b[0;34m,\u001b[0m\u001b[0;34m:\u001b[0m\u001b[0mT\u001b[0m\u001b[0;34m]\u001b[0m \u001b[0;34m==\u001b[0m \u001b[0;36m0\u001b[0m\u001b[0;34m,\u001b[0m \u001b[0mfloat\u001b[0m\u001b[0;34m(\u001b[0m\u001b[0;34m'-inf'\u001b[0m\u001b[0;34m)\u001b[0m\u001b[0;34m)\u001b[0m\u001b[0;34m\u001b[0m\u001b[0;34m\u001b[0m\u001b[0m\n\u001b[1;32m     75\u001b[0m         \u001b[0matt\u001b[0m \u001b[0;34m=\u001b[0m \u001b[0mF\u001b[0m\u001b[0;34m.\u001b[0m\u001b[0msoftmax\u001b[0m\u001b[0;34m(\u001b[0m\u001b[0matt\u001b[0m\u001b[0;34m,\u001b[0m \u001b[0mdim\u001b[0m\u001b[0;34m=\u001b[0m\u001b[0;34m-\u001b[0m\u001b[0;36m1\u001b[0m\u001b[0;34m)\u001b[0m\u001b[0;34m\u001b[0m\u001b[0;34m\u001b[0m\u001b[0m\n",
      "\u001b[0;31mRuntimeError\u001b[0m: CUDA out of memory. Tried to allocate 16.00 MiB (GPU 0; 10.73 GiB total capacity; 2.39 GiB already allocated; 12.19 MiB free; 2.41 GiB reserved in total by PyTorch)"
     ]
    }
   ],
   "source": [
    "df = trainer.train(wandb)"
   ]
  },
  {
   "cell_type": "code",
   "execution_count": null,
   "id": "f416d6a3",
   "metadata": {},
   "outputs": [],
   "source": []
  }
 ],
 "metadata": {
  "kernelspec": {
   "display_name": "DTproject",
   "language": "python",
   "name": "dtproject"
  },
  "language_info": {
   "codemirror_mode": {
    "name": "ipython",
    "version": 3
   },
   "file_extension": ".py",
   "mimetype": "text/x-python",
   "name": "python",
   "nbconvert_exporter": "python",
   "pygments_lexer": "ipython3",
   "version": "3.6.13"
  }
 },
 "nbformat": 4,
 "nbformat_minor": 5
}
